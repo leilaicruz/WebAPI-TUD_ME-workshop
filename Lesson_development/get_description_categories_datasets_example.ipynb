{
 "cells": [
  {
   "cell_type": "code",
   "execution_count": null,
   "id": "68eaa6e0",
   "metadata": {},
   "outputs": [],
   "source": [
    "## Notebook to get the description and categories of all deposited datasets from April 2025 using the webapi from 4TU.Researchdata"
   ]
  },
  {
   "cell_type": "code",
   "execution_count": 1,
   "id": "ce6d824c",
   "metadata": {},
   "outputs": [
    {
     "name": "stdout",
     "output_type": "stream",
     "text": [
      "Note: you may need to restart the kernel to use updated packages.\n",
      "Note: you may need to restart the kernel to use updated packages.\n"
     ]
    }
   ],
   "source": [
    "%pip install -q pandas\n",
    "%pip install -q requests"
   ]
  },
  {
   "cell_type": "code",
   "execution_count": 3,
   "id": "9199b396",
   "metadata": {},
   "outputs": [],
   "source": [
    "import pandas as pd\n",
    "import requests"
   ]
  },
  {
   "cell_type": "code",
   "execution_count": null,
   "id": "e98a8df6",
   "metadata": {},
   "outputs": [
    {
     "name": "stdout",
     "output_type": "stream",
     "text": [
      "True\n"
     ]
    }
   ],
   "source": [
    "base_url='https://data.4tu.nl'\n",
    "endpoint_general='/v2/articles'\n",
    "\n",
    "\n",
    "params = {\"published_since\": 20250401, \"limit\": 10,\"item_type\":3}\n",
    "\n",
    "response = requests.get(base_url + endpoint_general,params=params,timeout=60)\n",
    "\n",
    "print(response.ok)"
   ]
  },
  {
   "cell_type": "code",
   "execution_count": 22,
   "id": "296b1451",
   "metadata": {},
   "outputs": [
    {
     "name": "stdout",
     "output_type": "stream",
     "text": [
      "<p>This dataset accompanies the publication \"Lagrangian modelling reveals sediment pathways at evolving coasts\" (van Westen et al., 2025, Scientific Reports) and contains the input data, results, and analysis scripts for tracking individual sediment particle pathways at the Sand Engine mega-nourishment in the Netherlands over a five-year period. The research objective was to understand how coastal perturbations influence sediment movement patterns, going beyond traditional Eulerian approaches that only reveal net morphological change. We developed a novel post-processing methodology using SedTRAILS, which transforms outputs from validated coupled Delft3D-FM and AeoLiS models into Lagrangian pathways. This approach reveals previously hidden sediment transport patterns, including burial-limited particle dispersal during early perturbation stages and the transition to transport-limited conditions as the coastline diffuses. The dataset includes pre-processed Eulerian model outputs that serve as input for the Lagrangian analysis, particle pathway data for over 40,000 tracked particles, analysis scripts that extract key insights about transport mechanisms, and the resulting visualizations that demonstrate both direct and indirect sediment accumulation effects.</p>\n",
      "[{'id': 13635, 'uuid': '11146de8-e7bd-407e-9f33-ef52a8d1774d', 'title': 'Civil Engineering', 'parent_id': 13630, 'parent_uuid': '0b4f83fd-752d-4437-b29d-43075e4ed4cc', 'path': '', 'source_id': None, 'taxonomy_id': None}, {'id': 13637, 'uuid': 'd55516e5-9d1e-4491-a27d-7c20917b5d6f', 'title': 'Environmental Engineering', 'parent_id': 13630, 'parent_uuid': '0b4f83fd-752d-4437-b29d-43075e4ed4cc', 'path': '', 'source_id': None, 'taxonomy_id': None}, {'id': 13630, 'uuid': '0b4f83fd-752d-4437-b29d-43075e4ed4cc', 'title': 'Engineering', 'parent_id': None, 'parent_uuid': None, 'path': '', 'source_id': None, 'taxonomy_id': None}]\n"
     ]
    }
   ],
   "source": [
    "# Parse JSON response\n",
    "articles_json = response.json()\n",
    "\n",
    "# extracting the description and categories per dataset for one file \n",
    "\n",
    "response_dataset=requests.get(base_url + endpoint_general + '/' + articles_json[0].get('uuid'),timeout=60)\n",
    "\n",
    "individual_dataset_json = response_dataset.json()\n",
    "\n",
    "print(individual_dataset_json.get('description'))\n",
    "print(individual_dataset_json.get('categories'))"
   ]
  },
  {
   "cell_type": "code",
   "execution_count": null,
   "id": "2ec21619",
   "metadata": {},
   "outputs": [
    {
     "name": "stdout",
     "output_type": "stream",
     "text": [
      "UUID: 8ec8a1c9-a0f1-4c2c-b3f5-69bea63c14b4\n",
      "Description: <p>This dataset accompanies the publication \"Lagrangian modelling reveals sediment pathways at evolving coasts\" (van Westen et al., 2025, Scientific Reports) and contains the input data, results, and analysis scripts for tracking individual sediment particle pathways at the Sand Engine mega-nourishment in the Netherlands over a five-year period. The research objective was to understand how coastal perturbations influence sediment movement patterns, going beyond traditional Eulerian approaches that only reveal net morphological change. We developed a novel post-processing methodology using SedTRAILS, which transforms outputs from validated coupled Delft3D-FM and AeoLiS models into Lagrangian pathways. This approach reveals previously hidden sediment transport patterns, including burial-limited particle dispersal during early perturbation stages and the transition to transport-limited conditions as the coastline diffuses. The dataset includes pre-processed Eulerian model outputs that serve as input for the Lagrangian analysis, particle pathway data for over 40,000 tracked particles, analysis scripts that extract key insights about transport mechanisms, and the resulting visualizations that demonstrate both direct and indirect sediment accumulation effects.</p>\n",
      "Categories: [{'id': 13635, 'uuid': '11146de8-e7bd-407e-9f33-ef52a8d1774d', 'title': 'Civil Engineering', 'parent_id': 13630, 'parent_uuid': '0b4f83fd-752d-4437-b29d-43075e4ed4cc', 'path': '', 'source_id': None, 'taxonomy_id': None}, {'id': 13637, 'uuid': 'd55516e5-9d1e-4491-a27d-7c20917b5d6f', 'title': 'Environmental Engineering', 'parent_id': 13630, 'parent_uuid': '0b4f83fd-752d-4437-b29d-43075e4ed4cc', 'path': '', 'source_id': None, 'taxonomy_id': None}, {'id': 13630, 'uuid': '0b4f83fd-752d-4437-b29d-43075e4ed4cc', 'title': 'Engineering', 'parent_id': None, 'parent_uuid': None, 'path': '', 'source_id': None, 'taxonomy_id': None}]\n",
      "------------------------------------------------------------\n",
      "UUID: 0021130c-4d1a-4902-a111-a9bab2317031\n",
      "Description: <p>This dataset presents interdisciplinary research on coastal morphodynamics, focusing on the development of a novel computational framework that couples marine and aeolian models to simulate coastal evolution. The study uses the Sand Engine mega-nourishment in the Netherlands as a case study, integrating multiple models including Delft3D Flexible Mesh, SWAN, and AeoLiS through the Basic Model Interface (BMI) to enable comprehensive cross-domain sediment transport simulation. Data sources include Digital Elevation Model (DEM) data, LiDAR measurements, Jetski surveys, and JarKus coastal measurements for the simulation setup. The research employed advanced computational techniques to explore interactions between marine and wind-driven sediment transport processes. The dataset contains model configurations, coupling framework scripts, model outputs, analysis tools, and visualization materials.</p>\n",
      "Categories: [{'id': 13635, 'uuid': '11146de8-e7bd-407e-9f33-ef52a8d1774d', 'title': 'Civil Engineering', 'parent_id': 13630, 'parent_uuid': '0b4f83fd-752d-4437-b29d-43075e4ed4cc', 'path': '', 'source_id': None, 'taxonomy_id': None}, {'id': 13637, 'uuid': 'd55516e5-9d1e-4491-a27d-7c20917b5d6f', 'title': 'Environmental Engineering', 'parent_id': 13630, 'parent_uuid': '0b4f83fd-752d-4437-b29d-43075e4ed4cc', 'path': '', 'source_id': None, 'taxonomy_id': None}, {'id': 13630, 'uuid': '0b4f83fd-752d-4437-b29d-43075e4ed4cc', 'title': 'Engineering', 'parent_id': None, 'parent_uuid': None, 'path': '', 'source_id': None, 'taxonomy_id': None}]\n",
      "------------------------------------------------------------\n",
      "UUID: 13de5770-7801-4eb0-8a57-78c5722e89e9\n",
      "Description: <p>This dataset contains simulation configurations, model outputs, analysis scripts and figures from Chapter 5 of the PhD dissertation \"Connecting Coasts: Nature-based Solutions from Nearshore to Dune.\" The research investigates how nourishment design influences dune growth and natural dune dynamics in coastal environments using interdisciplinary numerical modeling. Two case studies are presented: (1) alternative designs of the Sand Engine mega-nourishment to assess their influence on dune growth, and (2) comparison of a regular beach nourishment with a lagoon-based alternative to evaluate effects on dune dynamics and blowout formation. The research employs three numerical approaches: a process-based aeolian transport model (AeoLiS), a coupled marine-aeolian framework (Delft3D-FM with AeoLiS), and a Lagrangian particle-tracking method (SedTRAILS). The dataset includes model configurations for ten numerical simulations covering different design scenarios, selected model outputs, analysis scripts for extracting key metrics, and the resulting figures used in the dissertation. This comprehensive dataset enables reproducibility of the findings and supports further research on interdisciplinary coastal design.</p>\n",
      "Categories: [{'id': 13635, 'uuid': '11146de8-e7bd-407e-9f33-ef52a8d1774d', 'title': 'Civil Engineering', 'parent_id': 13630, 'parent_uuid': '0b4f83fd-752d-4437-b29d-43075e4ed4cc', 'path': '', 'source_id': None, 'taxonomy_id': None}, {'id': 13637, 'uuid': 'd55516e5-9d1e-4491-a27d-7c20917b5d6f', 'title': 'Environmental Engineering', 'parent_id': 13630, 'parent_uuid': '0b4f83fd-752d-4437-b29d-43075e4ed4cc', 'path': '', 'source_id': None, 'taxonomy_id': None}, {'id': 13630, 'uuid': '0b4f83fd-752d-4437-b29d-43075e4ed4cc', 'title': 'Engineering', 'parent_id': None, 'parent_uuid': None, 'path': '', 'source_id': None, 'taxonomy_id': None}]\n",
      "------------------------------------------------------------\n",
      "UUID: eb78267a-137b-4f61-bb7e-6549915a24c7\n",
      "Description: <p>Input files and model output for a schematized 1-D morphodynamic model of the Lower Rhine System (from Bonn in Germany to Vuren, Schoonhoven, and Keteldiep in the Netherlands)</p><p><br></p><p>These files are related to the manuscript \" <em>Climate Change Impacts on Flow Partitioning in a River Bifurcation System</em> \" submitted to Geophysical Research Letters.</p><p><br></p><p>The Input files include</p><p><br></p><p>- Model_cross_sections: cross-section data, with the main channel and floodplain width at each cross-section</p><p>- initial mean bed elevation: Initial mean bed elevation of all the branches</p><p>- initial bed composition: Initial bed and subsurface composition per grid cell formatted as input to SOBEK RE</p><p>- internal and external morphological boundary conditions: Sediment flux at the upstream boundary and nodal point relations at the two bifurcation nodes formatted as input to SOBEK RE</p><p>- Boundary condition_Upstream discharge: Hydrograph at the upstream boundary for the reference case and the scenarios</p><p>- Boundary condition_Downstream water level: Water level at the downstream boundaries for the reference case and the scenarios (Please check SI to separate which boundary condition fits with which scenario)</p><p>- GRAINP: Mixed size sediment input file for SOBEK RE</p><p><br></p><p>A list of runs used in the manuscript is also added.</p><p>Model results</p><p><br></p><p>- flow_discharge_output.xlsx : Flow discharge at Lobith and the upstream part of the bifurcates for all the model runs</p><p>- bed_level_output.xlsx: yearly averaged bed level for the entire reach for all the model runs</p><p>- Dg_transport_output/DG_surface_output: 20-year averaged geometric mean grain size of the flux and bed surface over the entire reach for the reference case, hydrograph scenario Hn, and combined scenario Hn-SSP 585</p><p><br></p><p>In addition, the field data collected by Rijkswaterstaat on bed surface grain size in the Dutch Rhine in 2020 (2020_bed_surface_data.xlsx) is also included. These data have been used as information to derive the model input grain size fraction content. The data has been averaged over width; we only used data for locations where right, left, and center samples were available.</p><p><br></p>\n",
      "Categories: [{'id': 13635, 'uuid': '11146de8-e7bd-407e-9f33-ef52a8d1774d', 'title': 'Civil Engineering', 'parent_id': 13630, 'parent_uuid': '0b4f83fd-752d-4437-b29d-43075e4ed4cc', 'path': '', 'source_id': None, 'taxonomy_id': None}, {'id': 13394, 'uuid': '2f62b92d-22e8-4c7e-bc64-9d9d5cd4384d', 'title': 'Land and Water Management', 'parent_id': 13385, 'parent_uuid': 'e32043b4-8450-4660-9345-5ebd20436733', 'path': '', 'source_id': None, 'taxonomy_id': None}, {'id': 13396, 'uuid': 'b5720abb-36a6-4df1-84d2-78de0ac4064f', 'title': 'Physical and Chemical Conditions of Water', 'parent_id': 13385, 'parent_uuid': 'e32043b4-8450-4660-9345-5ebd20436733', 'path': '', 'source_id': None, 'taxonomy_id': None}, {'id': 13557, 'uuid': 'bf809076-155e-4fc9-ad08-e21b55fc20bc', 'title': 'Physical Geography and Environmental Geoscience', 'parent_id': 13551, 'parent_uuid': '091d4588-f153-48cf-976d-a3f8472008a9', 'path': '', 'source_id': None, 'taxonomy_id': None}, {'id': 13637, 'uuid': 'd55516e5-9d1e-4491-a27d-7c20917b5d6f', 'title': 'Environmental Engineering', 'parent_id': 13630, 'parent_uuid': '0b4f83fd-752d-4437-b29d-43075e4ed4cc', 'path': '', 'source_id': None, 'taxonomy_id': None}, {'id': 13388, 'uuid': 'e28b69db-342a-4a29-a259-5f4525a23787', 'title': 'Climate and Climate Change', 'parent_id': 13385, 'parent_uuid': 'e32043b4-8450-4660-9345-5ebd20436733', 'path': '', 'source_id': None, 'taxonomy_id': None}, {'id': 13551, 'uuid': '091d4588-f153-48cf-976d-a3f8472008a9', 'title': 'Earth Sciences', 'parent_id': None, 'parent_uuid': None, 'path': '', 'source_id': None, 'taxonomy_id': None}, {'id': 13630, 'uuid': '0b4f83fd-752d-4437-b29d-43075e4ed4cc', 'title': 'Engineering', 'parent_id': None, 'parent_uuid': None, 'path': '', 'source_id': None, 'taxonomy_id': None}, {'id': 13385, 'uuid': 'e32043b4-8450-4660-9345-5ebd20436733', 'title': 'Environment', 'parent_id': None, 'parent_uuid': None, 'path': '', 'source_id': None, 'taxonomy_id': None}]\n",
      "------------------------------------------------------------\n",
      "UUID: 44cd7cee-1109-4306-803a-d0e2fb712ffc\n",
      "Description: <p>The thesis related to this dataset investigates, for the first time, the tomography-based real-time control of multiphase flows. A gas-liquid axial cyclone separator is used in the experiments, that combine (i) the development of fast tomography algorithms for real-time control applications, (ii) the physics of swirling gas-liquid flows, (iii) the phase distribution dynamics in the axial cyclone, and (iv) the tomography-based real-time control of the phase distribution near the cyclone outlets. This dataset contains experimental data related to: (i) the real-time Electrical Resistance Tomography (ERT) image reconstruction algorithm proposed in the current research to measure cyclone flows in the columnar regime, resulting in phase distribution reconstructions more precise and up to three orders of magnitude faster than traditional ERT algorithms ( Chapter 2 of the thesis); (ii) flow pattern maps of the vertical upward swirling gas-liquid pipe-flow patterns that can be created in axial cyclones for a wide range of gas and liquid flow rates and different swirl intensities, presented and modelled in Chapter 3; (iii) time-average efficiency and time-average phase distribution near the cyclone outlets, used to investigate if the separation can be described as a one variable function of the time-average gas core diameter in Chapter 4; (iv) measurements of the gas core in different locations of the axial cyclone, used to study the relation between the phase distribution dynamics in the axial cyclone and in the upstream flow, and the gas core response to actions in the control valve in the cyclone outlet. The phase distribution response to the valve is used to design a real-time controller to suppress external disturbances in the phase distribution, and the obtained results are also included in the dataset (Chapter 5). The experiments were performed using cameras and ERT to record the phase distribution, and the processed results presented in the thesis are uploaded in the excel tables of the current dataset.</p>\n",
      "Categories: [{'id': 13643, 'uuid': '2962f78d-d76c-48dd-a446-487dee9afe5f', 'title': 'Mechanical Engineering', 'parent_id': 13630, 'parent_uuid': '0b4f83fd-752d-4437-b29d-43075e4ed4cc', 'path': '', 'source_id': None, 'taxonomy_id': None}, {'id': 13645, 'uuid': 'c9f8932d-54e6-4b89-917b-d7b341eb6784', 'title': 'Interdisciplinary Engineering', 'parent_id': 13630, 'parent_uuid': '0b4f83fd-752d-4437-b29d-43075e4ed4cc', 'path': '', 'source_id': None, 'taxonomy_id': None}, {'id': 13634, 'uuid': 'f8712841-1147-4951-878b-30a13c83afe2', 'title': 'Chemical Engineering', 'parent_id': 13630, 'parent_uuid': '0b4f83fd-752d-4437-b29d-43075e4ed4cc', 'path': '', 'source_id': None, 'taxonomy_id': None}, {'id': 13630, 'uuid': '0b4f83fd-752d-4437-b29d-43075e4ed4cc', 'title': 'Engineering', 'parent_id': None, 'parent_uuid': None, 'path': '', 'source_id': None, 'taxonomy_id': None}]\n",
      "------------------------------------------------------------\n",
      "UUID: bcf01712-4f8d-4f12-bfc6-84fed4ddc086\n",
      "Description: <p>This repository contains raw images underlying the SOFI images of figure 2 and 4 in <em>High-throughput single molecule microscopy with adaptable spatial resolution using exchangeable oligonucleotide labels (</em>https://pubs.acs.org/doi/10.1021/jacs.0c00451).</p>\n",
      "Categories: [{'id': 13587, 'uuid': '1627cf1c-40fe-4c9f-9c37-074b289a5070', 'title': 'Other Biological Sciences', 'parent_id': 13578, 'parent_uuid': 'c9376db2-dd6d-47f1-a329-d1691fc5b485', 'path': '', 'source_id': None, 'taxonomy_id': None}, {'id': 13659, 'uuid': '6c44692c-a178-4558-867a-4f01400d00d2', 'title': 'Nanotechnology', 'parent_id': 13652, 'parent_uuid': 'c55f4887-3ee0-4036-8f48-8fb208d87095', 'path': '', 'source_id': None, 'taxonomy_id': None}, {'id': 13608, 'uuid': 'bb4565d6-63f0-4271-86e9-656fb32a44d5', 'title': 'Optical Physics', 'parent_id': 13603, 'parent_uuid': '3208b81e-0142-4489-a094-9e7b92c61e6e', 'path': '', 'source_id': None, 'taxonomy_id': None}, {'id': 13603, 'uuid': '3208b81e-0142-4489-a094-9e7b92c61e6e', 'title': 'Physical Sciences', 'parent_id': None, 'parent_uuid': None, 'path': '', 'source_id': None, 'taxonomy_id': None}, {'id': 13652, 'uuid': 'c55f4887-3ee0-4036-8f48-8fb208d87095', 'title': 'Technology', 'parent_id': None, 'parent_uuid': None, 'path': '', 'source_id': None, 'taxonomy_id': None}, {'id': 13578, 'uuid': 'c9376db2-dd6d-47f1-a329-d1691fc5b485', 'title': 'Biological Sciences', 'parent_id': None, 'parent_uuid': None, 'path': '', 'source_id': None, 'taxonomy_id': None}]\n",
      "------------------------------------------------------------\n",
      "UUID: 11bff1ea-4784-463e-90d0-eb2e2b64fe96\n",
      "Description: <p>SARS-CoV-2 genome dataset to accompany our publication: Emergence of novel SARS-CoV-2 variants in the Netherlands from Scientific Reports [1].</p><p><br></p><p>Complete, high quality (number of undetermined bases less than 1% of the whole sequence) genome sequences of SARS-COV-2 that were isolated from human hosts only were obtained from GISAID, NCBI and China’s National Genomics Data Center (NGDC) on June 13th 2020. The dataset contained 29,503 sequences with unique identifiers in total, including the Wuhan-Hu-1 reference sequence (accession ID NC_045512.2). The “Collection date” field was also extracted for all sequences, and it is referred to as “date” throughout our work.</p><p><br></p><p>The acknowledgement table for GISAID sequences can be found in Supplementary file 2 and the full list of sequence identifiers for NCBI and NGDC records are provided in Supplementary file 3 in the corresponding publication [1].</p><p><br></p><p>[1]: Urhan, A., Abeel, T. Emergence of novel SARS-CoV-2 variants in the Netherlands. <em>Sci Rep</em> <strong>11</strong>, 6625 (2021). https://doi.org/10.1038/s41598-021-85363-7</p>\n",
      "Categories: [{'id': 13583, 'uuid': '37a2f97c-35ee-4b56-a790-3fb9fb92243c', 'title': 'Microbiology', 'parent_id': 13578, 'parent_uuid': 'c9376db2-dd6d-47f1-a329-d1691fc5b485', 'path': '', 'source_id': None, 'taxonomy_id': None}, {'id': 13619, 'uuid': '9333e341-8fb8-4fcd-a86d-1b05b958eb10', 'title': 'Other Information and Computing Sciences', 'parent_id': 13611, 'parent_uuid': 'c78e1734-8680-4846-8bc9-92ba6e9f77ac', 'path': '', 'source_id': None, 'taxonomy_id': None}, {'id': 13582, 'uuid': 'a1d6c2e6-e28c-46ba-bd5d-021ca5c0d9a2', 'title': 'Genetics', 'parent_id': 13578, 'parent_uuid': 'c9376db2-dd6d-47f1-a329-d1691fc5b485', 'path': '', 'source_id': None, 'taxonomy_id': None}, {'id': 13611, 'uuid': 'c78e1734-8680-4846-8bc9-92ba6e9f77ac', 'title': 'Information and Computing Sciences', 'parent_id': None, 'parent_uuid': None, 'path': '', 'source_id': None, 'taxonomy_id': None}, {'id': 13578, 'uuid': 'c9376db2-dd6d-47f1-a329-d1691fc5b485', 'title': 'Biological Sciences', 'parent_id': None, 'parent_uuid': None, 'path': '', 'source_id': None, 'taxonomy_id': None}]\n",
      "------------------------------------------------------------\n",
      "UUID: fa461c9b-415b-4978-b027-ea87f57ec890\n",
      "Description: <p>This dataset supports a publication in <em>Circular Economy and Sustainability</em> (Springer) and includes data collected for a practice-based review exploring the relationship between circularity and the commons in urban contexts. The goal was to develop a conceptual framework for \"circular commons\" by analyzing empirical examples and selected case studies.</p><p><br></p><p>The dataset includes:</p><ol><li><strong>Inventory of Circular Commons</strong> – A selected list of 156 empirical examples identified through a review of literature, exhibition catalogs, online platforms, academic sources, and media. The selection was based on three criteria: circularity, commoning, and urban context.</li><li><strong>Case Study Data</strong> – Data reviewed via desk research on 16 selected cases of circular commons.</li><li><strong>Case Study Analysis</strong> – A qualitative keyword analysis of the 16 cases of circular commons.</li></ol><p><br></p><p>Circular Commons: Exploring Innate Spatial Tactics as Pathways toward a Circular Built Environment. https://doi.org/10.1007/s43615-024-00473-4</p><p><br></p>\n",
      "Categories: [{'id': 13364, 'uuid': '4f6c9408-428b-4809-9617-e8a53d8fe780', 'title': 'Building', 'parent_id': 13362, 'parent_uuid': '6322470c-bed3-40a7-890a-f6fbb96eecb8', 'path': '', 'source_id': None, 'taxonomy_id': None}, {'id': 13368, 'uuid': '63fad2e9-3fbd-4667-ba50-d9292e52308c', 'title': 'Other Built Environment and Design', 'parent_id': 13362, 'parent_uuid': '6322470c-bed3-40a7-890a-f6fbb96eecb8', 'path': '', 'source_id': None, 'taxonomy_id': None}, {'id': 13473, 'uuid': '6db2e6c4-90c2-4da8-b6cc-52293ef56410', 'title': 'Other Studies in Human Society', 'parent_id': 13464, 'parent_uuid': 'd8a59207-d819-4697-adca-d5c4c3fafce6', 'path': '', 'source_id': None, 'taxonomy_id': None}, {'id': 13367, 'uuid': '77170dc5-8b86-4978-80f9-275084f81ef6', 'title': 'Urban and Regional Planning', 'parent_id': 13362, 'parent_uuid': '6322470c-bed3-40a7-890a-f6fbb96eecb8', 'path': '', 'source_id': None, 'taxonomy_id': None}, {'id': 13363, 'uuid': 'b9c6466c-eea0-49b4-aa28-902f160a34c5', 'title': 'Architecture', 'parent_id': 13362, 'parent_uuid': '6322470c-bed3-40a7-890a-f6fbb96eecb8', 'path': '', 'source_id': None, 'taxonomy_id': None}, {'id': 13515, 'uuid': 'c47edea6-55b5-468f-b7b2-0ec2f946b92b', 'title': 'Environmentally Sustainable Construction', 'parent_id': 13509, 'parent_uuid': 'd8187a7c-be9c-45eb-84e9-5c6c3cf7b8c8', 'path': '', 'source_id': None, 'taxonomy_id': None}, {'id': 13570, 'uuid': 'c69c2d72-d78f-40c0-bb82-173c00473f24', 'title': 'Other Economics', 'parent_id': 13566, 'parent_uuid': '3a42ce2c-903f-4483-b9c0-6b118cd6b56c', 'path': '', 'source_id': None, 'taxonomy_id': None}, {'id': 13388, 'uuid': 'e28b69db-342a-4a29-a259-5f4525a23787', 'title': 'Climate and Climate Change', 'parent_id': 13385, 'parent_uuid': 'e32043b4-8450-4660-9345-5ebd20436733', 'path': '', 'source_id': None, 'taxonomy_id': None}, {'id': 13566, 'uuid': '3a42ce2c-903f-4483-b9c0-6b118cd6b56c', 'title': 'Economics', 'parent_id': None, 'parent_uuid': None, 'path': '', 'source_id': None, 'taxonomy_id': None}, {'id': 13362, 'uuid': '6322470c-bed3-40a7-890a-f6fbb96eecb8', 'title': 'Built Environment and Design', 'parent_id': None, 'parent_uuid': None, 'path': '', 'source_id': None, 'taxonomy_id': None}, {'id': 13509, 'uuid': 'd8187a7c-be9c-45eb-84e9-5c6c3cf7b8c8', 'title': 'Construction', 'parent_id': None, 'parent_uuid': None, 'path': '', 'source_id': None, 'taxonomy_id': None}, {'id': 13464, 'uuid': 'd8a59207-d819-4697-adca-d5c4c3fafce6', 'title': 'Studies in Human Society', 'parent_id': None, 'parent_uuid': None, 'path': '', 'source_id': None, 'taxonomy_id': None}, {'id': 13385, 'uuid': 'e32043b4-8450-4660-9345-5ebd20436733', 'title': 'Environment', 'parent_id': None, 'parent_uuid': None, 'path': '', 'source_id': None, 'taxonomy_id': None}]\n",
      "------------------------------------------------------------\n",
      "UUID: a202d4db-725c-4352-8c1c-7e0f2ebb55c1\n",
      "Description: <p>A zipped collection of data, codes, and scripts applied in the PhD thesis \"From Colors to Spectra and Back Again\". We address several challenges in the context of spectral rendering, including efficient wavelength importance samping, color-to-spectrum uplifting, and artist-controllable color metamerism effects. Development of the thesis has resulted in C++/OpenGL implementations of spectral rendering and data analysis methods which are bundled in this dataset in accordance with each chapter in the thesis. We further include all test data, which is artificial (no physical data collection was performed). Test data is either spectral rendering scenes (chapters 2, 3, 4), or embedding data (appendix A).</p>\n",
      "Categories: [{'id': 13614, 'uuid': 'ae4fe0e0-9013-4f36-9fb9-fe369356a47a', 'title': 'Computer Software', 'parent_id': 13611, 'parent_uuid': 'c78e1734-8680-4846-8bc9-92ba6e9f77ac', 'path': '', 'source_id': None, 'taxonomy_id': None}, {'id': 13611, 'uuid': 'c78e1734-8680-4846-8bc9-92ba6e9f77ac', 'title': 'Information and Computing Sciences', 'parent_id': None, 'parent_uuid': None, 'path': '', 'source_id': None, 'taxonomy_id': None}]\n",
      "------------------------------------------------------------\n",
      "UUID: 7c3083a2-8229-45c4-a57f-233007b75e8b\n",
      "Description: <p>These online appendices and research materials support the dissertation titled:</p><p>\"Inclusion-by-Design: Designing a Reference Architecture for Inclusive Lending Systems.\"</p><p>It includes software artifacts, survey data, and simulation results.</p><p>This package consists of 13 supplementary files:</p><p>1. P2PLending.sol – Smart contract layer (Solidity)</p><p>2. P2PLendingService.js – Middleware DLT service (JavaScript)</p><p>3. P2PLendingAPI.js – Backend API layer (JavaScript)</p><p>4. Survey 287 Raw Num.csv – Anonymized survey responses (Qualtrics results)</p><p>5. Hyp A1 - add attributes.xlsx</p><p>6. Hyp A2 - Feature Weight.xlsx</p><p>7. Hyp A2 - Penalty Based.xlsx</p><p>8. Hyp A2 HFPT metric 1-2.xlsx</p><p>9. Hyp A2 HFPT metric 3-4-5.xlsx</p><p>10. Python - HypA1 - Add Attributes</p><p>11. Python - HypA2 - Feature Weight</p><p>12. Python - HypA2 - Penalty-based</p><p>13. Python - HypA2 - HFPT</p><p><br></p>\n",
      "Categories: [{'id': 13617, 'uuid': 'b16dcd69-1f6d-475a-968c-659d2cc7dba4', 'title': 'Information Systems', 'parent_id': 13611, 'parent_uuid': 'c78e1734-8680-4846-8bc9-92ba6e9f77ac', 'path': '', 'source_id': None, 'taxonomy_id': None}, {'id': 13611, 'uuid': 'c78e1734-8680-4846-8bc9-92ba6e9f77ac', 'title': 'Information and Computing Sciences', 'parent_id': None, 'parent_uuid': None, 'path': '', 'source_id': None, 'taxonomy_id': None}]\n",
      "------------------------------------------------------------\n"
     ]
    }
   ],
   "source": [
    "## for all datasets (Could be left as exercise )\n",
    "\n",
    "# Parse JSON response\n",
    "articles_json = response.json()\n",
    "\n",
    "# Loop through all articles and fetch detailed info\n",
    "for article in articles_json:\n",
    "    uuid = article.get('uuid')\n",
    "    if uuid:\n",
    "        response_dataset = requests.get(f\"{base_url}{endpoint_general}/{uuid}\", timeout=60)\n",
    "        if response_dataset.ok:\n",
    "            individual_dataset_json = response_dataset.json()\n",
    "            print(f\"UUID: {uuid}\")\n",
    "            print(\"Description:\", individual_dataset_json.get('description'))\n",
    "            print(\"Categories:\", individual_dataset_json.get('categories'))\n",
    "            print(\"-\" * 60)  # Just a separator for readability\n",
    "        else:\n",
    "            print(f\"Failed to fetch dataset {uuid}: {response_dataset.status_code}\")\n"
   ]
  }
 ],
 "metadata": {
  "kernelspec": {
   "display_name": "base",
   "language": "python",
   "name": "python3"
  },
  "language_info": {
   "codemirror_mode": {
    "name": "ipython",
    "version": 3
   },
   "file_extension": ".py",
   "mimetype": "text/x-python",
   "name": "python",
   "nbconvert_exporter": "python",
   "pygments_lexer": "ipython3",
   "version": "3.12.9"
  }
 },
 "nbformat": 4,
 "nbformat_minor": 5
}
