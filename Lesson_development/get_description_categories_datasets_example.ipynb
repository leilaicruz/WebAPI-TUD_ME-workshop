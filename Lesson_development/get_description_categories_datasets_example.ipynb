{
 "cells": [
  {
   "cell_type": "code",
   "execution_count": null,
   "id": "68eaa6e0",
   "metadata": {},
   "outputs": [],
   "source": [
    "## Notebook to get the description and categories of all deposited datasets from April 2025 using the webapi from 4TU.Researchdata"
   ]
  },
  {
   "cell_type": "code",
   "execution_count": null,
   "id": "9199b396",
   "metadata": {},
   "outputs": [],
   "source": [
    "import pandas as pd\n",
    "import requests"
   ]
  },
  {
   "cell_type": "markdown",
   "id": "c58d0388",
   "metadata": {},
   "source": [
    "### Get 10 datasets published after 01-04-2025 "
   ]
  },
  {
   "cell_type": "code",
   "execution_count": null,
   "id": "e98a8df6",
   "metadata": {},
   "outputs": [],
   "source": [
    "base_url='https://data.4tu.nl'\n",
    "endpoint_general='/v2/articles'\n",
    "\n",
    "\n",
    "params = {\"published_since\": 20250401, \"limit\": 10,\"item_type\":3}\n",
    "\n",
    "response = requests.get(base_url + endpoint_general,params=params,timeout=60)\n",
    "\n",
    "print(response.ok)"
   ]
  },
  {
   "cell_type": "code",
   "execution_count": null,
   "id": "296b1451",
   "metadata": {},
   "outputs": [],
   "source": [
    "# Parse JSON response\n",
    "articles_json = response.json()\n",
    "\n",
    "articles_json"
   ]
  },
  {
   "cell_type": "markdown",
   "id": "1b05f0a0",
   "metadata": {},
   "source": [
    "## Extracting the description and categories per dataset for one file"
   ]
  },
  {
   "cell_type": "code",
   "execution_count": null,
   "id": "d9407fe6",
   "metadata": {},
   "outputs": [],
   "source": [
    " \n",
    "\n",
    "response_dataset=requests.get(base_url + endpoint_general + '/' + articles_json[0].get('uuid'),timeout=60)\n",
    "\n",
    "individual_dataset_json = response_dataset.json()\n",
    "\n",
    "print(individual_dataset_json.get('description'))\n"
   ]
  },
  {
   "cell_type": "code",
   "execution_count": null,
   "id": "4903974d",
   "metadata": {},
   "outputs": [],
   "source": [
    "print(individual_dataset_json.get('categories'))"
   ]
  },
  {
   "cell_type": "code",
   "execution_count": null,
   "id": "2ec21619",
   "metadata": {},
   "outputs": [],
   "source": [
    "## For all datasets (Could be left as exercise )\n",
    "\n",
    "# Parse JSON response\n",
    "articles_json = response.json()\n",
    "\n",
    "# Loop through all articles and fetch detailed info\n",
    "for article in articles_json:\n",
    "    uuid = article.get('uuid')\n",
    "    if uuid:\n",
    "        response_dataset = requests.get(f\"{base_url}{endpoint_general}/{uuid}\", timeout=60)\n",
    "        if response_dataset.ok:\n",
    "            individual_dataset_json = response_dataset.json()\n",
    "            print(f\"UUID: {uuid}\")\n",
    "            print(\"Description:\", individual_dataset_json.get('description'))\n",
    "            print(\"Categories:\", individual_dataset_json.get('categories'))\n",
    "            print(\"-\" * 60)  # Just a separator for readability\n",
    "        else:\n",
    "            print(f\"Failed to fetch dataset {uuid}: {response_dataset.status_code}\")\n"
   ]
  }
 ],
 "metadata": {
  "kernelspec": {
   "display_name": "webapi",
   "language": "python",
   "name": "python3"
  },
  "language_info": {
   "codemirror_mode": {
    "name": "ipython",
    "version": 3
   },
   "file_extension": ".py",
   "mimetype": "text/x-python",
   "name": "python",
   "nbconvert_exporter": "python",
   "pygments_lexer": "ipython3",
   "version": "3.12.3"
  }
 },
 "nbformat": 4,
 "nbformat_minor": 5
}
