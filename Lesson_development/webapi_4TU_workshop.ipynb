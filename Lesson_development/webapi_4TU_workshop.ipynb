{
 "cells": [
  {
   "cell_type": "markdown",
   "id": "ca31730c",
   "metadata": {},
   "source": [
    "## Why is it important to use Web APIs for research?\n",
    "\n",
    "Web APIs help automate access to research data and metadata. This enables reproducibility, automation of data pipelines, and programmatic interaction with repositories like 4TU.ResearchData."
   ]
  },
  {
   "cell_type": "markdown",
   "id": "1aea0f3f",
   "metadata": {},
   "source": [
    "## REST APIs in a nutshell\n",
    "\n",
    "A REST API is a web service that uses HTTP methods (GET, POST, etc.) to allow communication between clients and servers. Responses are usually in JSON format, making them easy to parse and reuse."
   ]
  },
  {
   "cell_type": "markdown",
   "id": "9e91bffc",
   "metadata": {},
   "source": [
    "## 1. REUSE: Search and Download Datasets"
   ]
  },
  {
   "cell_type": "markdown",
   "id": "04ddeab5",
   "metadata": {},
   "source": [
    "### Get 10 datasets published after 01-01-2025 (via `curl`)"
   ]
  },
  {
   "cell_type": "code",
   "execution_count": null,
   "id": "550dc9f5-8366-4787-89d2-6fd32fe265f4",
   "metadata": {},
   "outputs": [],
   "source": [
    "!curl \"https://data.4tu.nl/v2/articles\" | jq"
   ]
  },
  {
   "cell_type": "markdown",
   "id": "3c8a4f54-b9f2-4b94-8a12-bb56db81da6f",
   "metadata": {
    "editable": true,
    "slideshow": {
     "slide_type": ""
    },
    "tags": []
   },
   "source": [
    "## What is curl?\n",
    "\n",
    "curl stands for **Client URL**. \n",
    "\n",
    "It’s a command-line tool that allows you to transfer data to or from a server using various internet protocols, most commonly HTTP and HTTPS.\n",
    "\n",
    "It is especially useful for making API requests — you can send GET, POST, PUT, DELETE requests, upload or download files, send headers or authentication tokens, and more.\n",
    "\n",
    "## Why curl works for APIs\n",
    "\n",
    "REST APIs are based on the HTTP protocol, just like websites. When you visit a webpage, your browser sends a GET request and displays the HTML it gets back. When you use curl, you do the same thing, but in your terminal. For example: \n",
    "\n",
    "`curl https://data.4tu.nl/v2/articles` This sends an HTTP GET request to the 4TU.ResearchData API.\n",
    "\n",
    "## Key reasons why curl is used:\n",
    "\n",
    "It’s built into most Linux/macOS systems and easily installable on Windows.\n",
    "\n",
    "Scriptable: usable in bash scripts, notebooks, automation.\n",
    "\n",
    "Supports headers, query parameters, tokens, POST data, etc.\n",
    "\n",
    "Can output to files (>, -o, -O) or pipe to processors like jq."
   ]
  },
  {
   "cell_type": "code",
   "execution_count": null,
   "id": "6d8aac6d-e4be-4e23-b122-42d7f495f41c",
   "metadata": {
    "editable": true,
    "slideshow": {
     "slide_type": ""
    },
    "tags": []
   },
   "outputs": [],
   "source": [
    "\n",
    "!curl \"https://data.4tu.nl/v2/articles?limit=2&published_since=2024-07-25\" > data.json"
   ]
  },
  {
   "cell_type": "code",
   "execution_count": null,
   "id": "48190f87-77c6-4213-830b-857ec22a895a",
   "metadata": {},
   "outputs": [],
   "source": [
    "!curl \"https://data.4tu.nl/v2/articles?limit=2&published_since=2024-07-25\" | jq"
   ]
  },
  {
   "cell_type": "code",
   "execution_count": null,
   "id": "8507b0a6",
   "metadata": {},
   "outputs": [],
   "source": [
    "!curl \"https://data.4tu.nl/v2/articles?item_type=3&limit=10&published_since=2025-01-01\" | jq"
   ]
  },
  {
   "cell_type": "markdown",
   "id": "439d17ce",
   "metadata": {},
   "source": [
    "### Get 10 software records published after 01-01-2025 (via `curl`)"
   ]
  },
  {
   "cell_type": "code",
   "execution_count": null,
   "id": "4d593479",
   "metadata": {},
   "outputs": [],
   "source": [
    "!curl \"https://data.4tu.nl/v2/articles?item_type=9&limit=10&published_since=2025-01-01\" | jq"
   ]
  },
  {
   "cell_type": "markdown",
   "id": "a5b04d1b",
   "metadata": {},
   "source": [
    "### Save dataset titles and DOIs to file (via `curl`)"
   ]
  },
  {
   "cell_type": "code",
   "execution_count": null,
   "id": "2a540531",
   "metadata": {},
   "outputs": [],
   "source": [
    "!curl \"https://data.4tu.nl/v2/articles?item_type=3&limit=10&published_since=2025-01-01\" \\| jq '.[] | \"* \" + .title + \" (\" + .doi + \")\"' > datasets.md"
   ]
  },
  {
   "cell_type": "markdown",
   "id": "ea806844",
   "metadata": {},
   "source": [
    "### Exercise: Save dataset title, DOI, and publication date (via `curl`)"
   ]
  },
  {
   "cell_type": "code",
   "execution_count": null,
   "id": "dfdcb4c2",
   "metadata": {},
   "outputs": [],
   "source": [
    "!curl \"https://data.4tu.nl/v2/articles?item_type=3&limit=10&published_since=2025-01-01\" \\| jq '.[] | \"* \" + .title + \" (\" + .doi + \") (\" + .published_date + \")\"' > datasets.md"
   ]
  },
  {
   "cell_type": "markdown",
   "id": "02fec9d0",
   "metadata": {},
   "source": [
    "## Search Datasets by Keyword"
   ]
  },
  {
   "cell_type": "code",
   "execution_count": null,
   "id": "ece48fba",
   "metadata": {},
   "outputs": [],
   "source": [
    "!curl --request POST  --header \"Content-Type: application/json\" \\--data '{ \"search_for\": \"mechanical engineering\" }' \\https://data.4tu.nl/v2/articles/search | jq"
   ]
  },
  {
   "cell_type": "code",
   "execution_count": null,
   "id": "e9899206",
   "metadata": {},
   "outputs": [],
   "source": [
    "!curl --request POST  --header \"Content-Type: application/json\" \\--data '{ \"search_for\": \"Nanomechanical String Resonators\" }' \\https://data.4tu.nl/v2/articles/search | jq"
   ]
  },
  {
   "cell_type": "markdown",
   "id": "1a8a4c19",
   "metadata": {},
   "source": [
    "## Using a Token to Access Author Info (via `curl`)"
   ]
  },
  {
   "cell_type": "markdown",
   "id": "01ea7258",
   "metadata": {},
   "source": [
    "#### Create the .env file in binder and copy and paste the token for demosntrations purposes \n",
    "\n",
    "`echo 'API_TOKEN=\"your_token_here\"' > ~/.env`\n",
    "\n",
    "`echo \"Token loaded: ${API_TOKEN:0:5}...\"`\n",
    "\n",
    "`source ~/.env`\n",
    "\n",
    "- maybe we need to create a second token for the production server\n",
    "\n",
    "`echo 'API_TOKEN_MAIN=\"your_token_here\"' >> ~/.env`\n",
    "\n",
    "### Troubleshooting \n",
    "\n",
    "- Most probably we have to move to the terminal in binder to make it work because in the notebook it does not work"
   ]
  },
  {
   "cell_type": "code",
   "execution_count": null,
   "id": "0205b8ec",
   "metadata": {
    "editable": true,
    "slideshow": {
     "slide_type": ""
    },
    "tags": []
   },
   "outputs": [],
   "source": [
    "# Requires setting a token in a sourced .env file (maybe skip this step but mention it\n",
    "!curl --request POST \\--header \"Authorization: token ${variable_token_name_main}\" \\--header \"Content-Type: application/json\" \\--data '{ \"search\": \"Leila Iñigo\" }' \\https://data.4tu.nl/v2/account/authors/search | jq > author_info.md"
   ]
  },
  {
   "cell_type": "markdown",
   "id": "5ae1c4ac",
   "metadata": {},
   "source": [
    "## Upload Datasets (POST Requests)"
   ]
  },
  {
   "cell_type": "markdown",
   "id": "469e6161",
   "metadata": {},
   "source": [
    "### Basic Upload"
   ]
  },
  {
   "cell_type": "code",
   "execution_count": null,
   "id": "6d2b9da7",
   "metadata": {},
   "outputs": [],
   "source": [
    "!curl -X POST https://next.data.4tu.nl/v2/account/articles \\ --header \"Authorization: token ${variable_token_name_next}\" \\--header \"Content-Type: application/json\" \\--data '{ \"title\": \"Example dataset\" }' | jq"
   ]
  },
  {
   "cell_type": "markdown",
   "id": "9c5a7cad",
   "metadata": {},
   "source": [
    "### Upload with Author Metadata"
   ]
  },
  {
   "cell_type": "code",
   "execution_count": null,
   "id": "85d815c1",
   "metadata": {},
   "outputs": [],
   "source": [
    "!curl -X POST https://next.data.4tu.nl/v2/account/articles \\ --header \"Authorization: token YOUR_TOKEN_NEXT\" \\--header \"Content-Type: application/json\" \\--data '{ \"title\": \"Example dataset\", \"authors\": [{ \"first_name\": \"John\", \"full_name\": \"John Doe\", \"last_name\": \"Doe\", \"orcid_id\": \"0000-0003-4324-5350\" }] }'| jq"
   ]
  },
  {
   "cell_type": "markdown",
   "id": "403c49f0",
   "metadata": {},
   "source": [
    "### Upload Using YAML Metadata"
   ]
  },
  {
   "cell_type": "code",
   "execution_count": null,
   "id": "eb85bca1",
   "metadata": {},
   "outputs": [],
   "source": [
    "!yq '.' example_metadata.yaml | \\curl -X POST https://next.data.4tu.nl/v2/account/articles \\-H \"Authorization: token ${API_TOKEN_NEXT}\" \\-H \"Content-Type: application/json\" -d @-"
   ]
  },
  {
   "cell_type": "markdown",
   "id": "d732ae4c",
   "metadata": {},
   "source": [
    "## Motivation for Using Python"
   ]
  },
  {
   "cell_type": "markdown",
   "id": "0414b1b5",
   "metadata": {},
   "source": [
    "### Get the title, uuid and published dates of the datasets uploaded in April 2025"
   ]
  },
  {
   "cell_type": "code",
   "execution_count": null,
   "id": "6c7ddd80",
   "metadata": {},
   "outputs": [],
   "source": [
    "!curl \"https://data.4tu.nl/v2/articles?item_type=3&limit=10&published_since=2025-04-01\" \\| jq '.[] | \"* \" + .title + \" (\" + .uuid + \") (\" + .published_date + \")\"' > datasets.md"
   ]
  },
  {
   "cell_type": "markdown",
   "id": "3d69038d",
   "metadata": {},
   "source": [
    "### Get the description and categories of the datasets uploaded in April 2025"
   ]
  },
  {
   "cell_type": "code",
   "execution_count": null,
   "id": "cdcfcc99",
   "metadata": {},
   "outputs": [],
   "source": [
    "!curl -s https://data.4tu.nl/v2/articles/fb26fd3f-ba3c-4cf0-8926-14768a256933 \\| jq -r '\"Description: \" + .description + \"\\nCategories: \" + (.categories | map(.title) | join(\", \"))' \\> datasets_description_categories.md"
   ]
  },
  {
   "cell_type": "markdown",
   "id": "62d12127",
   "metadata": {},
   "source": [
    "### Bash Script: Loop Through UUIDs to Collect Metadata"
   ]
  },
  {
   "cell_type": "code",
   "execution_count": 8,
   "id": "53fcb70b",
   "metadata": {},
   "outputs": [],
   "source": [
    "!curl -s \"https://data.4tu.nl/v2/articles?published_since=20250401&item_type=3&limit=10\" \\| jq '.[] | {uuid: .uuid}' > article_ids.jsoncat article_ids.json | jq -r '.uuid' | while read uuid; do  curl -s \"https://data.4tu.nl/v2/articles/$uuid\" \\  | jq -r '\"Description: \" + .description + \"\\nCategories: \" + (.categories | map(.title) | join(\", \"))' >> articles_full_metadata.md ; done"
   ]
  },
  {
   "cell_type": "markdown",
   "id": "34071bc5",
   "metadata": {},
   "source": [
    "### Limitations of Bash Scripts\n",
    "\n",
    "- Harder to debug or extend\n",
    "- Tricky to structure or merge data\n",
    "- Not ideal for large-scale automation"
   ]
  },
  {
   "cell_type": "markdown",
   "id": "2684b6f8",
   "metadata": {},
   "source": [
    "## Using the API with Python\n",
    "\n",
    "See `get_description_categories_datasets_example.ipynb` for a full example using `requests`."
   ]
  },
  {
   "cell_type": "markdown",
   "id": "2541cb79",
   "metadata": {},
   "source": [
    "## Bonus: Using `connect4tu` Python Package\n",
    "\n",
    "You can also use the [connect4tu](https://github.com/leilaicruz/connect4tu) package for a cleaner Python interface to the 4TU API."
   ]
  }
 ],
 "metadata": {
  "kernelspec": {
   "display_name": "webapi",
   "language": "python",
   "name": "python3"
  },
  "language_info": {
   "codemirror_mode": {
    "name": "ipython",
    "version": 3
   },
   "file_extension": ".py",
   "mimetype": "text/x-python",
   "name": "python",
   "nbconvert_exporter": "python",
   "pygments_lexer": "ipython3",
   "version": "3.12.3"
  }
 },
 "nbformat": 4,
 "nbformat_minor": 5
}
