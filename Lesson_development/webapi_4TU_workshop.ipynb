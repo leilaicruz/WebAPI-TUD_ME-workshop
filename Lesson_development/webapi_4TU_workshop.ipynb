{
 "cells": [
  {
   "cell_type": "markdown",
   "id": "ca31730c",
   "metadata": {},
   "source": [
    "## Why is it important to use Web APIs for research?\n",
    "\n",
    "Web APIs help automate access to research data and metadata. This enables reproducibility, automation of data pipelines, and programmatic interaction with repositories like 4TU.ResearchData."
   ]
  },
  {
   "cell_type": "markdown",
   "id": "1aea0f3f",
   "metadata": {},
   "source": [
    "## REST APIs in a nutshell\n",
    "\n",
    "A REST API is a web service that uses HTTP methods (GET, POST, etc.) to allow communication between clients and servers. Responses are usually in JSON format, making them easy to parse and reuse."
   ]
  },
  {
   "cell_type": "markdown",
   "id": "9e91bffc",
   "metadata": {},
   "source": [
    "## 1. REUSE: Search and Download Datasets"
   ]
  },
  {
   "cell_type": "markdown",
   "id": "04ddeab5",
   "metadata": {},
   "source": [
    "### Get 10 datasets published after 01-01-2025 (via `curl`)"
   ]
  },
  {
   "cell_type": "code",
   "execution_count": 8,
   "id": "550dc9f5-8366-4787-89d2-6fd32fe265f4",
   "metadata": {},
   "outputs": [
    {
     "name": "stdout",
     "output_type": "stream",
     "text": [
      "[\n",
      "  {\n",
      "    \"id\": null,\n",
      "    \"uuid\": \"e06f14b2-d884-4d1a-88fd-4ee8ebc3a98e\",\n",
      "    \"title\": \"TWORIT: Theoretical solver and Waveguide Optimization for Radiating Irregular Tapered-Cones â€“ A tool for calculating the S parameters and Far Fields of a cascaded cylindrical waveguide structure\",\n",
      "    \"doi\": \"10.4121/e06f14b2-d884-4d1a-88fd-4ee8ebc3a98e.v1\",\n",
      "    \"handle\": null,\n",
      "    \"url\": \"https://data.4tu.nl/v2/articles/e06f14b2-d884-4d1a-88fd-4ee8ebc3a98e\",\n",
      "    \"published_date\": \"2025-02-18T08:25:57\",\n",
      "    \"thumb\": null,\n",
      "    \"defined_type\": 9,\n",
      "    \"defined_type_name\": \"software\",\n",
      "    \"group_id\": 28586,\n",
      "    \"url_private_api\": \"https://data.4tu.nl/v2/account/articles/e06f14b2-d884-4d1a-88fd-4ee8ebc3a98e\",\n",
      "    \"url_public_api\": \"https://data.4tu.nl/v2/articles/e06f14b2-d884-4d1a-88fd-4ee8ebc3a98e\",\n",
      "    \"url_private_html\": \"https://data.4tu.nl/my/datasets/e06f14b2-d884-4d1a-88fd-4ee8ebc3a98e/edit\",\n",
      "    \"url_public_html\": \"https://data.4tu.nl/datasets/e06f14b2-d884-4d1a-88fd-4ee8ebc3a98e/1\",\n",
      "    \"timeline\": {\n",
      "      \"posted\": \"2025-02-18T08:25:57\",\n",
      "      \"firstOnline\": \"2025-02-18T08:25:55\",\n",
      "      \"revision\": null\n",
      "    },\n",
      "    \"resource_title\": null,\n",
      "    \"resource_doi\": null\n",
      "  },\n",
      "  {\n",
      "    \"id\": null,\n",
      "    \"uuid\": \"8050f9cb-d0b0-4149-bd24-02f13c2410db\",\n",
      "    \"title\": \"Code for Model-Predictive Fuzzy Controller for Search-and-Rescue Path-planning of Multi-agent Systems\",\n",
      "    \"doi\": \"10.4121/8050f9cb-d0b0-4149-bd24-02f13c2410db.v1\",\n",
      "    \"handle\": null,\n",
      "    \"url\": \"https://data.4tu.nl/v2/articles/8050f9cb-d0b0-4149-bd24-02f13c2410db\",\n",
      "    \"published_date\": \"2024-12-10T13:20:31\",\n",
      "    \"thumb\": null,\n",
      "    \"defined_type\": 9,\n",
      "    \"defined_type_name\": \"software\",\n",
      "    \"group_id\": 28628,\n",
      "    \"url_private_api\": \"https://data.4tu.nl/v2/account/articles/8050f9cb-d0b0-4149-bd24-02f13c2410db\",\n",
      "    \"url_public_api\": \"https://data.4tu.nl/v2/articles/8050f9cb-d0b0-4149-bd24-02f13c2410db\",\n",
      "    \"url_private_html\": \"https://data.4tu.nl/my/datasets/8050f9cb-d0b0-4149-bd24-02f13c2410db/edit\",\n",
      "    \"url_public_html\": \"https://data.4tu.nl/datasets/8050f9cb-d0b0-4149-bd24-02f13c2410db/1\",\n",
      "    \"timeline\": {\n",
      "      \"posted\": \"2024-12-10T13:20:31\",\n",
      "      \"firstOnline\": \"2024-12-10T13:20:30\",\n",
      "      \"revision\": null\n",
      "    },\n",
      "    \"resource_title\": null,\n",
      "    \"resource_doi\": null\n",
      "  },\n",
      "  {\n",
      "    \"id\": null,\n",
      "    \"uuid\": \"abc2eb1f-9291-44bd-9810-2ea0e98ae7eb\",\n",
      "    \"title\": \"Dataset underlying the study \\\"Observations of Estuarine Salt Intrusion Dynamics During a Prolonged Drought Event in the Rhine-Meuse Delta\\\"\",\n",
      "    \"doi\": \"10.4121/abc2eb1f-9291-44bd-9810-2ea0e98ae7eb.v2\",\n",
      "    \"handle\": null,\n",
      "    \"url\": \"https://data.4tu.nl/v2/articles/abc2eb1f-9291-44bd-9810-2ea0e98ae7eb\",\n",
      "    \"published_date\": \"2025-01-06T11:10:29\",\n",
      "    \"thumb\": null,\n",
      "    \"defined_type\": 3,\n",
      "    \"defined_type_name\": \"dataset\",\n",
      "    \"group_id\": 28586,\n",
      "    \"url_private_api\": \"https://data.4tu.nl/v2/account/articles/abc2eb1f-9291-44bd-9810-2ea0e98ae7eb\",\n",
      "    \"url_public_api\": \"https://data.4tu.nl/v2/articles/abc2eb1f-9291-44bd-9810-2ea0e98ae7eb\",\n",
      "    \"url_private_html\": \"https://data.4tu.nl/my/datasets/abc2eb1f-9291-44bd-9810-2ea0e98ae7eb/edit\",\n",
      "    \"url_public_html\": \"https://data.4tu.nl/datasets/abc2eb1f-9291-44bd-9810-2ea0e98ae7eb/2\",\n",
      "    \"timeline\": {\n",
      "      \"posted\": \"2025-01-06T11:10:29\",\n",
      "      \"firstOnline\": \"2024-08-21T10:29:08\",\n",
      "      \"revision\": null\n",
      "    },\n",
      "    \"resource_title\": \"Observations of Estuarine Salt Intrusion Dynamics During a Prolonged Drought Event in the Rhine-Meuse Delta\",\n",
      "    \"resource_doi\": \"10.1029/2024JC021655\"\n",
      "  },\n",
      "  {\n",
      "    \"id\": null,\n",
      "    \"uuid\": \"fe23a0c6-b13a-49c5-accf-a09dc211983d\",\n",
      "    \"title\": \"Data associated with the article \\\"A spatiotemporal framework to assess the bio-geomorphic interplay of saltmarsh vegetation and tidal emergence (Western Scheldt estuary)\\\"\",\n",
      "    \"doi\": \"10.4121/fe23a0c6-b13a-49c5-accf-a09dc211983d.v1\",\n",
      "    \"handle\": null,\n",
      "    \"url\": \"https://data.4tu.nl/v2/articles/fe23a0c6-b13a-49c5-accf-a09dc211983d\",\n",
      "    \"published_date\": \"2024-12-23T08:51:06\",\n",
      "    \"thumb\": null,\n",
      "    \"defined_type\": 3,\n",
      "    \"defined_type_name\": \"dataset\",\n",
      "    \"group_id\": 34892,\n",
      "    \"url_private_api\": \"https://data.4tu.nl/v2/account/articles/fe23a0c6-b13a-49c5-accf-a09dc211983d\",\n",
      "    \"url_public_api\": \"https://data.4tu.nl/v2/articles/fe23a0c6-b13a-49c5-accf-a09dc211983d\",\n",
      "    \"url_private_html\": \"https://data.4tu.nl/my/datasets/fe23a0c6-b13a-49c5-accf-a09dc211983d/edit\",\n",
      "    \"url_public_html\": \"https://data.4tu.nl/datasets/fe23a0c6-b13a-49c5-accf-a09dc211983d/1\",\n",
      "    \"timeline\": {\n",
      "      \"posted\": \"2024-12-23T08:51:06\",\n",
      "      \"firstOnline\": \"2024-12-23T08:51:05\",\n",
      "      \"revision\": null\n",
      "    },\n",
      "    \"resource_title\": \"A spatiotemporal framework to assess the bio-geomorphic interplay of saltmarsh vegetation and tidal emergence (Western Scheldt estuary)\",\n",
      "    \"resource_doi\": \"10.1016/j.jag.2024.104337\"\n",
      "  },\n",
      "  {\n",
      "    \"id\": null,\n",
      "    \"uuid\": \"8ec8a1c9-a0f1-4c2c-b3f5-69bea63c14b4\",\n",
      "    \"title\": \"Data and scripts underlying the publication: Lagrangian modelling reveals sediment pathways at evolving coasts\",\n",
      "    \"doi\": \"10.4121/8ec8a1c9-a0f1-4c2c-b3f5-69bea63c14b4.v1\",\n",
      "    \"handle\": null,\n",
      "    \"url\": \"https://data.4tu.nl/v2/articles/8ec8a1c9-a0f1-4c2c-b3f5-69bea63c14b4\",\n",
      "    \"published_date\": \"2025-04-09T08:55:43\",\n",
      "    \"thumb\": null,\n",
      "    \"defined_type\": 3,\n",
      "    \"defined_type_name\": \"dataset\",\n",
      "    \"group_id\": 28586,\n",
      "    \"url_private_api\": \"https://data.4tu.nl/v2/account/articles/8ec8a1c9-a0f1-4c2c-b3f5-69bea63c14b4\",\n",
      "    \"url_public_api\": \"https://data.4tu.nl/v2/articles/8ec8a1c9-a0f1-4c2c-b3f5-69bea63c14b4\",\n",
      "    \"url_private_html\": \"https://data.4tu.nl/my/datasets/8ec8a1c9-a0f1-4c2c-b3f5-69bea63c14b4/edit\",\n",
      "    \"url_public_html\": \"https://data.4tu.nl/datasets/8ec8a1c9-a0f1-4c2c-b3f5-69bea63c14b4/1\",\n",
      "    \"timeline\": {\n",
      "      \"posted\": \"2025-04-09T08:55:43\",\n",
      "      \"firstOnline\": \"2025-04-09T08:55:41\",\n",
      "      \"revision\": null\n",
      "    },\n",
      "    \"resource_title\": \"Lagrangian modelling reveals sediment pathways at evolving coasts\",\n",
      "    \"resource_doi\": \"10.1038/s41598-025-92910-z\"\n",
      "  },\n",
      "  {\n",
      "    \"id\": null,\n",
      "    \"uuid\": \"22a67949-4c53-4fb9-a01c-ceede142aa19\",\n",
      "    \"title\": \"Data underlying the publication: Emerging trade-offs in saltmarsh ecosystem services under sea-level rise\",\n",
      "    \"doi\": \"10.4121/22a67949-4c53-4fb9-a01c-ceede142aa19.v1\",\n",
      "    \"handle\": null,\n",
      "    \"url\": \"https://data.4tu.nl/v2/articles/22a67949-4c53-4fb9-a01c-ceede142aa19\",\n",
      "    \"published_date\": \"2025-04-22T09:54:23\",\n",
      "    \"thumb\": null,\n",
      "    \"defined_type\": 3,\n",
      "    \"defined_type_name\": \"dataset\",\n",
      "    \"group_id\": 34892,\n",
      "    \"url_private_api\": \"https://data.4tu.nl/v2/account/articles/22a67949-4c53-4fb9-a01c-ceede142aa19\",\n",
      "    \"url_public_api\": \"https://data.4tu.nl/v2/articles/22a67949-4c53-4fb9-a01c-ceede142aa19\",\n",
      "    \"url_private_html\": \"https://data.4tu.nl/my/datasets/22a67949-4c53-4fb9-a01c-ceede142aa19/edit\",\n",
      "    \"url_public_html\": \"https://data.4tu.nl/datasets/22a67949-4c53-4fb9-a01c-ceede142aa19/1\",\n",
      "    \"timeline\": {\n",
      "      \"posted\": \"2025-04-22T09:54:23\",\n",
      "      \"firstOnline\": \"2025-04-22T09:54:22\",\n",
      "      \"revision\": null\n",
      "    },\n",
      "    \"resource_title\": \"Emerging trade-offs in saltmarsh ecosystem services under sea-level rise\",\n",
      "    \"resource_doi\": \"10.1016/j.ecss.2025.109319\"\n",
      "  },\n",
      "  {\n",
      "    \"id\": null,\n",
      "    \"uuid\": \"dbbfecf5-a6a3-4077-968e-11c3681f4a93\",\n",
      "    \"title\": \"Data and code underlying the publication: Probabilistic Game-Theoretic Traffic Routing\",\n",
      "    \"doi\": \"10.4121/dbbfecf5-a6a3-4077-968e-11c3681f4a93.v1\",\n",
      "    \"handle\": null,\n",
      "    \"url\": \"https://data.4tu.nl/v2/articles/dbbfecf5-a6a3-4077-968e-11c3681f4a93\",\n",
      "    \"published_date\": \"2024-12-06T13:19:32\",\n",
      "    \"thumb\": null,\n",
      "    \"defined_type\": 3,\n",
      "    \"defined_type_name\": \"dataset\",\n",
      "    \"group_id\": 28586,\n",
      "    \"url_private_api\": \"https://data.4tu.nl/v2/account/articles/dbbfecf5-a6a3-4077-968e-11c3681f4a93\",\n",
      "    \"url_public_api\": \"https://data.4tu.nl/v2/articles/dbbfecf5-a6a3-4077-968e-11c3681f4a93\",\n",
      "    \"url_private_html\": \"https://data.4tu.nl/my/datasets/dbbfecf5-a6a3-4077-968e-11c3681f4a93/edit\",\n",
      "    \"url_public_html\": \"https://data.4tu.nl/datasets/dbbfecf5-a6a3-4077-968e-11c3681f4a93/1\",\n",
      "    \"timeline\": {\n",
      "      \"posted\": \"2024-12-06T13:19:32\",\n",
      "      \"firstOnline\": \"2024-12-06T13:19:30\",\n",
      "      \"revision\": null\n",
      "    },\n",
      "    \"resource_title\": \"Probabilistic Game-Theoretic Traffic Routing\",\n",
      "    \"resource_doi\": \"10.1109/TITS.2024.3399112\"\n",
      "  },\n",
      "  {\n",
      "    \"id\": null,\n",
      "    \"uuid\": \"ee1abac8-bfc9-4a1b-9a45-29f1bc461eb9\",\n",
      "    \"title\": \"Supplementary data for the paper 'Understanding cyclistsâ€™ perception of driverless vehicles through eye-tracking and interviews'\",\n",
      "    \"doi\": \"10.4121/ee1abac8-bfc9-4a1b-9a45-29f1bc461eb9.v1\",\n",
      "    \"handle\": null,\n",
      "    \"url\": \"https://data.4tu.nl/v2/articles/ee1abac8-bfc9-4a1b-9a45-29f1bc461eb9\",\n",
      "    \"published_date\": \"2024-11-22T10:13:07\",\n",
      "    \"thumb\": null,\n",
      "    \"defined_type\": 3,\n",
      "    \"defined_type_name\": \"dataset\",\n",
      "    \"group_id\": 28586,\n",
      "    \"url_private_api\": \"https://data.4tu.nl/v2/account/articles/ee1abac8-bfc9-4a1b-9a45-29f1bc461eb9\",\n",
      "    \"url_public_api\": \"https://data.4tu.nl/v2/articles/ee1abac8-bfc9-4a1b-9a45-29f1bc461eb9\",\n",
      "    \"url_private_html\": \"https://data.4tu.nl/my/datasets/ee1abac8-bfc9-4a1b-9a45-29f1bc461eb9/edit\",\n",
      "    \"url_public_html\": \"https://data.4tu.nl/datasets/ee1abac8-bfc9-4a1b-9a45-29f1bc461eb9/1\",\n",
      "    \"timeline\": {\n",
      "      \"posted\": \"2024-11-22T10:13:07\",\n",
      "      \"firstOnline\": \"2024-11-22T10:13:06\",\n",
      "      \"revision\": null\n",
      "    },\n",
      "    \"resource_title\": \"Understanding cyclistsâ€™ perception of driverless vehicles through eye-tracking and interviews\",\n",
      "    \"resource_doi\": \"10.1016/j.trf.2024.11.015\"\n",
      "  },\n",
      "  {\n",
      "    \"id\": null,\n",
      "    \"uuid\": \"30c4cc38-5844-41f2-bdef-8fa36b800ec5\",\n",
      "    \"title\": \"Data underlying the publication: Device-Aware Test for Ion Depletion Defects in RRAMs\",\n",
      "    \"doi\": \"10.4121/30c4cc38-5844-41f2-bdef-8fa36b800ec5.v1\",\n",
      "    \"handle\": null,\n",
      "    \"url\": \"https://data.4tu.nl/v2/articles/30c4cc38-5844-41f2-bdef-8fa36b800ec5\",\n",
      "    \"published_date\": \"2025-03-17T13:46:24\",\n",
      "    \"thumb\": null,\n",
      "    \"defined_type\": 3,\n",
      "    \"defined_type_name\": \"dataset\",\n",
      "    \"group_id\": 28586,\n",
      "    \"url_private_api\": \"https://data.4tu.nl/v2/account/articles/30c4cc38-5844-41f2-bdef-8fa36b800ec5\",\n",
      "    \"url_public_api\": \"https://data.4tu.nl/v2/articles/30c4cc38-5844-41f2-bdef-8fa36b800ec5\",\n",
      "    \"url_private_html\": \"https://data.4tu.nl/my/datasets/30c4cc38-5844-41f2-bdef-8fa36b800ec5/edit\",\n",
      "    \"url_public_html\": \"https://data.4tu.nl/datasets/30c4cc38-5844-41f2-bdef-8fa36b800ec5/1\",\n",
      "    \"timeline\": {\n",
      "      \"posted\": \"2025-03-17T13:46:24\",\n",
      "      \"firstOnline\": \"2025-03-17T13:46:23\",\n",
      "      \"revision\": null\n",
      "    },\n",
      "    \"resource_title\": \"Device-Aware Test for Ion Depletion Defects in RRAMs\",\n",
      "    \"resource_doi\": \"10.1109/ITC51656.2023.00041\"\n",
      "  },\n",
      "  {\n",
      "    \"id\": null,\n",
      "    \"uuid\": \"2e329e76-5f48-4d7f-bd70-4bd6d3238846\",\n",
      "    \"title\": \" Data underlying the MSc thesis: Integration of Pedagogical Agent in Counselling Simulation Training For Child Helplines\",\n",
      "    \"doi\": \"10.4121/2e329e76-5f48-4d7f-bd70-4bd6d3238846.v1\",\n",
      "    \"handle\": null,\n",
      "    \"url\": \"https://data.4tu.nl/v2/articles/2e329e76-5f48-4d7f-bd70-4bd6d3238846\",\n",
      "    \"published_date\": \"2025-02-24T09:13:51\",\n",
      "    \"thumb\": null,\n",
      "    \"defined_type\": 3,\n",
      "    \"defined_type_name\": \"dataset\",\n",
      "    \"group_id\": 28628,\n",
      "    \"url_private_api\": \"https://data.4tu.nl/v2/account/articles/2e329e76-5f48-4d7f-bd70-4bd6d3238846\",\n",
      "    \"url_public_api\": \"https://data.4tu.nl/v2/articles/2e329e76-5f48-4d7f-bd70-4bd6d3238846\",\n",
      "    \"url_private_html\": \"https://data.4tu.nl/my/datasets/2e329e76-5f48-4d7f-bd70-4bd6d3238846/edit\",\n",
      "    \"url_public_html\": \"https://data.4tu.nl/datasets/2e329e76-5f48-4d7f-bd70-4bd6d3238846/1\",\n",
      "    \"timeline\": {\n",
      "      \"posted\": \"2025-02-24T09:13:51\",\n",
      "      \"firstOnline\": \"2025-02-24T09:13:50\",\n",
      "      \"revision\": null\n",
      "    },\n",
      "    \"resource_title\": \"Integration of Pedagogical Agent in Counselling Simulation Training For Child Helplines\",\n",
      "    \"resource_doi\": null\n",
      "  }\n",
      "]\n"
     ]
    },
    {
     "name": "stderr",
     "output_type": "stream",
     "text": [
      "  % Total    % Received % Xferd  Average Speed   Time    Time     Time  Current\n",
      "                                 Dload  Upload   Total   Spent    Left  Speed\n",
      "\n",
      "  0     0    0     0    0     0      0      0 --:--:-- --:--:-- --:--:--     0\n",
      "100 10847  100 10847    0     0  21715      0 --:--:-- --:--:-- --:--:-- 21957\n"
     ]
    }
   ],
   "source": [
    "!curl \"https://data.4tu.nl/v2/articles\" | jq"
   ]
  },
  {
   "cell_type": "markdown",
   "id": "3c8a4f54-b9f2-4b94-8a12-bb56db81da6f",
   "metadata": {
    "editable": true,
    "slideshow": {
     "slide_type": ""
    },
    "tags": []
   },
   "source": [
    "## What is curl?\n",
    "\n",
    "curl stands for **Client URL**. \n",
    "\n",
    "It’s a command-line tool that allows you to transfer data to or from a server using various internet protocols, most commonly HTTP and HTTPS.\n",
    "\n",
    "It is especially useful for making API requests — you can send GET, POST, PUT, DELETE requests, upload or download files, send headers or authentication tokens, and more.\n",
    "\n",
    "## Why curl works for APIs\n",
    "\n",
    "REST APIs are based on the HTTP protocol, just like websites. When you visit a webpage, your browser sends a GET request and displays the HTML it gets back. When you use curl, you do the same thing, but in your terminal. For example: \n",
    "\n",
    "`curl https://data.4tu.nl/v2/articles` This sends an HTTP GET request to the 4TU.ResearchData API.\n",
    "\n",
    "## Key reasons why curl is used:\n",
    "\n",
    "It’s built into most Linux/macOS systems and easily installable on Windows.\n",
    "\n",
    "Scriptable: usable in bash scripts, notebooks, automation.\n",
    "\n",
    "Supports headers, query parameters, tokens, POST data, etc.\n",
    "\n",
    "Can output to files (>, -o, -O) or pipe to processors like jq."
   ]
  },
  {
   "cell_type": "code",
   "execution_count": 11,
   "id": "6d8aac6d-e4be-4e23-b122-42d7f495f41c",
   "metadata": {
    "editable": true,
    "slideshow": {
     "slide_type": ""
    },
    "tags": []
   },
   "outputs": [
    {
     "name": "stderr",
     "output_type": "stream",
     "text": [
      "  % Total    % Received % Xferd  Average Speed   Time    Time     Time  Current\n",
      "                                 Dload  Upload   Total   Spent    Left  Speed\n",
      "\n",
      "  0     0    0     0    0     0      0      0 --:--:-- --:--:-- --:--:--     0\n",
      "100  2060  100  2060    0     0   4112      0 --:--:-- --:--:-- --:--:--  4144\n",
      "100  2060  100  2060    0     0   4109      0 --:--:-- --:--:-- --:--:--  4144\n"
     ]
    }
   ],
   "source": [
    "\n",
    "!curl \"https://data.4tu.nl/v2/articles?limit=2&published_since=2024-07-25\" > data.json"
   ]
  },
  {
   "cell_type": "code",
   "execution_count": 10,
   "id": "48190f87-77c6-4213-830b-857ec22a895a",
   "metadata": {},
   "outputs": [
    {
     "name": "stdout",
     "output_type": "stream",
     "text": [
      "[\n",
      "  {\n",
      "    \"id\": null,\n",
      "    \"uuid\": \"e06f14b2-d884-4d1a-88fd-4ee8ebc3a98e\",\n",
      "    \"title\": \"TWORIT: Theoretical solver and Waveguide Optimization for Radiating Irregular Tapered-Cones â€“ A tool for calculating the S parameters and Far Fields of a cascaded cylindrical waveguide structure\",\n",
      "    \"doi\": \"10.4121/e06f14b2-d884-4d1a-88fd-4ee8ebc3a98e.v1\",\n",
      "    \"handle\": null,\n",
      "    \"url\": \"https://data.4tu.nl/v2/articles/e06f14b2-d884-4d1a-88fd-4ee8ebc3a98e\",\n",
      "    \"published_date\": \"2025-02-18T08:25:57\",\n",
      "    \"thumb\": null,\n",
      "    \"defined_type\": 9,\n",
      "    \"defined_type_name\": \"software\",\n",
      "    \"group_id\": 28586,\n",
      "    \"url_private_api\": \"https://data.4tu.nl/v2/account/articles/e06f14b2-d884-4d1a-88fd-4ee8ebc3a98e\",\n",
      "    \"url_public_api\": \"https://data.4tu.nl/v2/articles/e06f14b2-d884-4d1a-88fd-4ee8ebc3a98e\",\n",
      "    \"url_private_html\": \"https://data.4tu.nl/my/datasets/e06f14b2-d884-4d1a-88fd-4ee8ebc3a98e/edit\",\n",
      "    \"url_public_html\": \"https://data.4tu.nl/datasets/e06f14b2-d884-4d1a-88fd-4ee8ebc3a98e/1\",\n",
      "    \"timeline\": {\n",
      "      \"posted\": \"2025-02-18T08:25:57\",\n",
      "      \"firstOnline\": \"2025-02-18T08:25:55\",\n",
      "      \"revision\": null\n",
      "    },\n",
      "    \"resource_title\": null,\n",
      "    \"resource_doi\": null\n",
      "  },\n",
      "  {\n",
      "    \"id\": null,\n",
      "    \"uuid\": \"8050f9cb-d0b0-4149-bd24-02f13c2410db\",\n",
      "    \"title\": \"Code for Model-Predictive Fuzzy Controller for Search-and-Rescue Path-planning of Multi-agent Systems\",\n",
      "    \"doi\": \"10.4121/8050f9cb-d0b0-4149-bd24-02f13c2410db.v1\",\n",
      "    \"handle\": null,\n",
      "    \"url\": \"https://data.4tu.nl/v2/articles/8050f9cb-d0b0-4149-bd24-02f13c2410db\",\n",
      "    \"published_date\": \"2024-12-10T13:20:31\",\n",
      "    \"thumb\": null,\n",
      "    \"defined_type\": 9,\n",
      "    \"defined_type_name\": \"software\",\n",
      "    \"group_id\": 28628,\n",
      "    \"url_private_api\": \"https://data.4tu.nl/v2/account/articles/8050f9cb-d0b0-4149-bd24-02f13c2410db\",\n",
      "    \"url_public_api\": \"https://data.4tu.nl/v2/articles/8050f9cb-d0b0-4149-bd24-02f13c2410db\",\n",
      "    \"url_private_html\": \"https://data.4tu.nl/my/datasets/8050f9cb-d0b0-4149-bd24-02f13c2410db/edit\",\n",
      "    \"url_public_html\": \"https://data.4tu.nl/datasets/8050f9cb-d0b0-4149-bd24-02f13c2410db/1\",\n",
      "    \"timeline\": {\n",
      "      \"posted\": \"2024-12-10T13:20:31\",\n",
      "      \"firstOnline\": \"2024-12-10T13:20:30\",\n",
      "      \"revision\": null\n",
      "    },\n",
      "    \"resource_title\": null,\n",
      "    \"resource_doi\": null\n",
      "  }\n",
      "]\n"
     ]
    },
    {
     "name": "stderr",
     "output_type": "stream",
     "text": [
      "  % Total    % Received % Xferd  Average Speed   Time    Time     Time  Current\n",
      "                                 Dload  Upload   Total   Spent    Left  Speed\n",
      "\n",
      "  0     0    0     0    0     0      0      0 --:--:-- --:--:-- --:--:--     0\n",
      "100  2060  100  2060    0     0   4171      0 --:--:-- --:--:-- --:--:--  4212\n"
     ]
    }
   ],
   "source": [
    "!curl \"https://data.4tu.nl/v2/articles?limit=2&published_since=2024-07-25\" | jq"
   ]
  },
  {
   "cell_type": "code",
   "execution_count": 2,
   "id": "8507b0a6",
   "metadata": {},
   "outputs": [
    {
     "name": "stdout",
     "output_type": "stream",
     "text": [
      "[\n",
      "  {\n",
      "    \"id\": null,\n",
      "    \"uuid\": \"abc2eb1f-9291-44bd-9810-2ea0e98ae7eb\",\n",
      "    \"title\": \"Dataset underlying the study \\\"Observations of Estuarine Salt Intrusion Dynamics During a Prolonged Drought Event in the Rhine-Meuse Delta\\\"\",\n",
      "    \"doi\": \"10.4121/abc2eb1f-9291-44bd-9810-2ea0e98ae7eb.v2\",\n",
      "    \"handle\": null,\n",
      "    \"url\": \"https://data.4tu.nl/v2/articles/abc2eb1f-9291-44bd-9810-2ea0e98ae7eb\",\n",
      "    \"published_date\": \"2025-01-06T11:10:29\",\n",
      "    \"thumb\": null,\n",
      "    \"defined_type\": 3,\n",
      "    \"defined_type_name\": \"dataset\",\n",
      "    \"group_id\": 28586,\n",
      "    \"url_private_api\": \"https://data.4tu.nl/v2/account/articles/abc2eb1f-9291-44bd-9810-2ea0e98ae7eb\",\n",
      "    \"url_public_api\": \"https://data.4tu.nl/v2/articles/abc2eb1f-9291-44bd-9810-2ea0e98ae7eb\",\n",
      "    \"url_private_html\": \"https://data.4tu.nl/my/datasets/abc2eb1f-9291-44bd-9810-2ea0e98ae7eb/edit\",\n",
      "    \"url_public_html\": \"https://data.4tu.nl/datasets/abc2eb1f-9291-44bd-9810-2ea0e98ae7eb/2\",\n",
      "    \"timeline\": {\n",
      "      \"posted\": \"2025-01-06T11:10:29\",\n",
      "      \"firstOnline\": \"2024-08-21T10:29:08\",\n",
      "      \"revision\": null\n",
      "    },\n",
      "    \"resource_title\": \"Observations of Estuarine Salt Intrusion Dynamics During a Prolonged Drought Event in the Rhine-Meuse Delta\",\n",
      "    \"resource_doi\": \"10.1029/2024JC021655\"\n",
      "  },\n",
      "  {\n",
      "    \"id\": null,\n",
      "    \"uuid\": \"8ec8a1c9-a0f1-4c2c-b3f5-69bea63c14b4\",\n",
      "    \"title\": \"Data and scripts underlying the publication: Lagrangian modelling reveals sediment pathways at evolving coasts\",\n",
      "    \"doi\": \"10.4121/8ec8a1c9-a0f1-4c2c-b3f5-69bea63c14b4.v1\",\n",
      "    \"handle\": null,\n",
      "    \"url\": \"https://data.4tu.nl/v2/articles/8ec8a1c9-a0f1-4c2c-b3f5-69bea63c14b4\",\n",
      "    \"published_date\": \"2025-04-09T08:55:43\",\n",
      "    \"thumb\": null,\n",
      "    \"defined_type\": 3,\n",
      "    \"defined_type_name\": \"dataset\",\n",
      "    \"group_id\": 28586,\n",
      "    \"url_private_api\": \"https://data.4tu.nl/v2/account/articles/8ec8a1c9-a0f1-4c2c-b3f5-69bea63c14b4\",\n",
      "    \"url_public_api\": \"https://data.4tu.nl/v2/articles/8ec8a1c9-a0f1-4c2c-b3f5-69bea63c14b4\",\n",
      "    \"url_private_html\": \"https://data.4tu.nl/my/datasets/8ec8a1c9-a0f1-4c2c-b3f5-69bea63c14b4/edit\",\n",
      "    \"url_public_html\": \"https://data.4tu.nl/datasets/8ec8a1c9-a0f1-4c2c-b3f5-69bea63c14b4/1\",\n",
      "    \"timeline\": {\n",
      "      \"posted\": \"2025-04-09T08:55:43\",\n",
      "      \"firstOnline\": \"2025-04-09T08:55:41\",\n",
      "      \"revision\": null\n",
      "    },\n",
      "    \"resource_title\": \"Lagrangian modelling reveals sediment pathways at evolving coasts\",\n",
      "    \"resource_doi\": \"10.1038/s41598-025-92910-z\"\n",
      "  },\n",
      "  {\n",
      "    \"id\": null,\n",
      "    \"uuid\": \"22a67949-4c53-4fb9-a01c-ceede142aa19\",\n",
      "    \"title\": \"Data underlying the publication: Emerging trade-offs in saltmarsh ecosystem services under sea-level rise\",\n",
      "    \"doi\": \"10.4121/22a67949-4c53-4fb9-a01c-ceede142aa19.v1\",\n",
      "    \"handle\": null,\n",
      "    \"url\": \"https://data.4tu.nl/v2/articles/22a67949-4c53-4fb9-a01c-ceede142aa19\",\n",
      "    \"published_date\": \"2025-04-22T09:54:23\",\n",
      "    \"thumb\": null,\n",
      "    \"defined_type\": 3,\n",
      "    \"defined_type_name\": \"dataset\",\n",
      "    \"group_id\": 34892,\n",
      "    \"url_private_api\": \"https://data.4tu.nl/v2/account/articles/22a67949-4c53-4fb9-a01c-ceede142aa19\",\n",
      "    \"url_public_api\": \"https://data.4tu.nl/v2/articles/22a67949-4c53-4fb9-a01c-ceede142aa19\",\n",
      "    \"url_private_html\": \"https://data.4tu.nl/my/datasets/22a67949-4c53-4fb9-a01c-ceede142aa19/edit\",\n",
      "    \"url_public_html\": \"https://data.4tu.nl/datasets/22a67949-4c53-4fb9-a01c-ceede142aa19/1\",\n",
      "    \"timeline\": {\n",
      "      \"posted\": \"2025-04-22T09:54:23\",\n",
      "      \"firstOnline\": \"2025-04-22T09:54:22\",\n",
      "      \"revision\": null\n",
      "    },\n",
      "    \"resource_title\": \"Emerging trade-offs in saltmarsh ecosystem services under sea-level rise\",\n",
      "    \"resource_doi\": \"10.1016/j.ecss.2025.109319\"\n",
      "  },\n",
      "  {\n",
      "    \"id\": null,\n",
      "    \"uuid\": \"30c4cc38-5844-41f2-bdef-8fa36b800ec5\",\n",
      "    \"title\": \"Data underlying the publication: Device-Aware Test for Ion Depletion Defects in RRAMs\",\n",
      "    \"doi\": \"10.4121/30c4cc38-5844-41f2-bdef-8fa36b800ec5.v1\",\n",
      "    \"handle\": null,\n",
      "    \"url\": \"https://data.4tu.nl/v2/articles/30c4cc38-5844-41f2-bdef-8fa36b800ec5\",\n",
      "    \"published_date\": \"2025-03-17T13:46:24\",\n",
      "    \"thumb\": null,\n",
      "    \"defined_type\": 3,\n",
      "    \"defined_type_name\": \"dataset\",\n",
      "    \"group_id\": 28586,\n",
      "    \"url_private_api\": \"https://data.4tu.nl/v2/account/articles/30c4cc38-5844-41f2-bdef-8fa36b800ec5\",\n",
      "    \"url_public_api\": \"https://data.4tu.nl/v2/articles/30c4cc38-5844-41f2-bdef-8fa36b800ec5\",\n",
      "    \"url_private_html\": \"https://data.4tu.nl/my/datasets/30c4cc38-5844-41f2-bdef-8fa36b800ec5/edit\",\n",
      "    \"url_public_html\": \"https://data.4tu.nl/datasets/30c4cc38-5844-41f2-bdef-8fa36b800ec5/1\",\n",
      "    \"timeline\": {\n",
      "      \"posted\": \"2025-03-17T13:46:24\",\n",
      "      \"firstOnline\": \"2025-03-17T13:46:23\",\n",
      "      \"revision\": null\n",
      "    },\n",
      "    \"resource_title\": \"Device-Aware Test for Ion Depletion Defects in RRAMs\",\n",
      "    \"resource_doi\": \"10.1109/ITC51656.2023.00041\"\n",
      "  },\n",
      "  {\n",
      "    \"id\": null,\n",
      "    \"uuid\": \"2e329e76-5f48-4d7f-bd70-4bd6d3238846\",\n",
      "    \"title\": \" Data underlying the MSc thesis: Integration of Pedagogical Agent in Counselling Simulation Training For Child Helplines\",\n",
      "    \"doi\": \"10.4121/2e329e76-5f48-4d7f-bd70-4bd6d3238846.v1\",\n",
      "    \"handle\": null,\n",
      "    \"url\": \"https://data.4tu.nl/v2/articles/2e329e76-5f48-4d7f-bd70-4bd6d3238846\",\n",
      "    \"published_date\": \"2025-02-24T09:13:51\",\n",
      "    \"thumb\": null,\n",
      "    \"defined_type\": 3,\n",
      "    \"defined_type_name\": \"dataset\",\n",
      "    \"group_id\": 28628,\n",
      "    \"url_private_api\": \"https://data.4tu.nl/v2/account/articles/2e329e76-5f48-4d7f-bd70-4bd6d3238846\",\n",
      "    \"url_public_api\": \"https://data.4tu.nl/v2/articles/2e329e76-5f48-4d7f-bd70-4bd6d3238846\",\n",
      "    \"url_private_html\": \"https://data.4tu.nl/my/datasets/2e329e76-5f48-4d7f-bd70-4bd6d3238846/edit\",\n",
      "    \"url_public_html\": \"https://data.4tu.nl/datasets/2e329e76-5f48-4d7f-bd70-4bd6d3238846/1\",\n",
      "    \"timeline\": {\n",
      "      \"posted\": \"2025-02-24T09:13:51\",\n",
      "      \"firstOnline\": \"2025-02-24T09:13:50\",\n",
      "      \"revision\": null\n",
      "    },\n",
      "    \"resource_title\": \"Integration of Pedagogical Agent in Counselling Simulation Training For Child Helplines\",\n",
      "    \"resource_doi\": null\n",
      "  },\n",
      "  {\n",
      "    \"id\": null,\n",
      "    \"uuid\": \"8491b1ea-9964-4db6-9c64-93382945eb24\",\n",
      "    \"title\": \"Data_error analysis in the WAM2layers moisture tracking model under data limitations\",\n",
      "    \"doi\": \"10.4121/8491b1ea-9964-4db6-9c64-93382945eb24.v1\",\n",
      "    \"handle\": null,\n",
      "    \"url\": \"https://data.4tu.nl/v2/articles/8491b1ea-9964-4db6-9c64-93382945eb24\",\n",
      "    \"published_date\": \"2025-01-27T12:39:34\",\n",
      "    \"thumb\": null,\n",
      "    \"defined_type\": 3,\n",
      "    \"defined_type_name\": \"dataset\",\n",
      "    \"group_id\": 28628,\n",
      "    \"url_private_api\": \"https://data.4tu.nl/v2/account/articles/8491b1ea-9964-4db6-9c64-93382945eb24\",\n",
      "    \"url_public_api\": \"https://data.4tu.nl/v2/articles/8491b1ea-9964-4db6-9c64-93382945eb24\",\n",
      "    \"url_private_html\": \"https://data.4tu.nl/my/datasets/8491b1ea-9964-4db6-9c64-93382945eb24/edit\",\n",
      "    \"url_public_html\": \"https://data.4tu.nl/datasets/8491b1ea-9964-4db6-9c64-93382945eb24/1\",\n",
      "    \"timeline\": {\n",
      "      \"posted\": \"2025-01-27T12:39:34\",\n",
      "      \"firstOnline\": \"2025-01-27T12:39:33\",\n",
      "      \"revision\": null\n",
      "    },\n",
      "    \"resource_title\": null,\n",
      "    \"resource_doi\": null\n",
      "  },\n",
      "  {\n",
      "    \"id\": null,\n",
      "    \"uuid\": \"c70b90ab-02a3-418c-a5ea-4125d40d06a5\",\n",
      "    \"title\": \"PAR003 Optical disdrometer data at Green Village in Delft\",\n",
      "    \"doi\": \"10.4121/c70b90ab-02a3-418c-a5ea-4125d40d06a5.v3\",\n",
      "    \"handle\": null,\n",
      "    \"url\": \"https://data.4tu.nl/v2/articles/c70b90ab-02a3-418c-a5ea-4125d40d06a5\",\n",
      "    \"published_date\": \"2025-03-28T15:45:04\",\n",
      "    \"thumb\": null,\n",
      "    \"defined_type\": 3,\n",
      "    \"defined_type_name\": \"dataset\",\n",
      "    \"group_id\": 28586,\n",
      "    \"url_private_api\": \"https://data.4tu.nl/v2/account/articles/c70b90ab-02a3-418c-a5ea-4125d40d06a5\",\n",
      "    \"url_public_api\": \"https://data.4tu.nl/v2/articles/c70b90ab-02a3-418c-a5ea-4125d40d06a5\",\n",
      "    \"url_private_html\": \"https://data.4tu.nl/my/datasets/c70b90ab-02a3-418c-a5ea-4125d40d06a5/edit\",\n",
      "    \"url_public_html\": \"https://data.4tu.nl/datasets/c70b90ab-02a3-418c-a5ea-4125d40d06a5/3\",\n",
      "    \"timeline\": {\n",
      "      \"posted\": \"2025-03-28T15:45:04\",\n",
      "      \"firstOnline\": \"2024-10-04T16:13:54\",\n",
      "      \"revision\": null\n",
      "    },\n",
      "    \"resource_title\": null,\n",
      "    \"resource_doi\": null\n",
      "  },\n",
      "  {\n",
      "    \"id\": null,\n",
      "    \"uuid\": \"52056a89-9324-486f-a16b-93c0a1ceae2a\",\n",
      "    \"title\": \"Data associated with the publication \\\"Reliable operation of wind-storage systems for baseload power production\\\"\",\n",
      "    \"doi\": \"10.4121/52056a89-9324-486f-a16b-93c0a1ceae2a.v1\",\n",
      "    \"handle\": null,\n",
      "    \"url\": \"https://data.4tu.nl/v2/articles/52056a89-9324-486f-a16b-93c0a1ceae2a\",\n",
      "    \"published_date\": \"2025-03-17T16:10:22\",\n",
      "    \"thumb\": null,\n",
      "    \"defined_type\": 3,\n",
      "    \"defined_type_name\": \"dataset\",\n",
      "    \"group_id\": 28586,\n",
      "    \"url_private_api\": \"https://data.4tu.nl/v2/account/articles/52056a89-9324-486f-a16b-93c0a1ceae2a\",\n",
      "    \"url_public_api\": \"https://data.4tu.nl/v2/articles/52056a89-9324-486f-a16b-93c0a1ceae2a\",\n",
      "    \"url_private_html\": \"https://data.4tu.nl/my/datasets/52056a89-9324-486f-a16b-93c0a1ceae2a/edit\",\n",
      "    \"url_public_html\": \"https://data.4tu.nl/datasets/52056a89-9324-486f-a16b-93c0a1ceae2a/1\",\n",
      "    \"timeline\": {\n",
      "      \"posted\": \"2025-03-17T16:10:22\",\n",
      "      \"firstOnline\": \"2025-03-17T16:10:21\",\n",
      "      \"revision\": null\n",
      "    },\n",
      "    \"resource_title\": \"Reliable operation of wind-storage systems for baseload power production\",\n",
      "    \"resource_doi\": null\n",
      "  },\n",
      "  {\n",
      "    \"id\": null,\n",
      "    \"uuid\": \"60bea990-b1a6-40c7-9355-584e061791d5\",\n",
      "    \"title\": \"Microscopy raw and processed data to measure cell size, cell death and multi-nucleated ratio in yeast cells.\",\n",
      "    \"doi\": \"10.4121/60bea990-b1a6-40c7-9355-584e061791d5.v3\",\n",
      "    \"handle\": null,\n",
      "    \"url\": \"https://data.4tu.nl/v2/articles/60bea990-b1a6-40c7-9355-584e061791d5\",\n",
      "    \"published_date\": \"2025-02-11T14:07:37\",\n",
      "    \"thumb\": null,\n",
      "    \"defined_type\": 3,\n",
      "    \"defined_type_name\": \"dataset\",\n",
      "    \"group_id\": 28586,\n",
      "    \"url_private_api\": \"https://data.4tu.nl/v2/account/articles/60bea990-b1a6-40c7-9355-584e061791d5\",\n",
      "    \"url_public_api\": \"https://data.4tu.nl/v2/articles/60bea990-b1a6-40c7-9355-584e061791d5\",\n",
      "    \"url_private_html\": \"https://data.4tu.nl/my/datasets/60bea990-b1a6-40c7-9355-584e061791d5/edit\",\n",
      "    \"url_public_html\": \"https://data.4tu.nl/datasets/60bea990-b1a6-40c7-9355-584e061791d5/3\",\n",
      "    \"timeline\": {\n",
      "      \"posted\": \"2025-02-11T14:07:37\",\n",
      "      \"firstOnline\": \"2023-07-17T10:55:20\",\n",
      "      \"revision\": null\n",
      "    },\n",
      "    \"resource_title\": \"Redundancy and the role of protein copy numbers in the cell polarization machinery of budding yeast\",\n",
      "    \"resource_doi\": \"10.1101/2020.09.09.290510\"\n",
      "  },\n",
      "  {\n",
      "    \"id\": null,\n",
      "    \"uuid\": \"b15ea962-a023-468b-9ec8-c7be90329d7a\",\n",
      "    \"title\": \"CT scan data underlying the PhD dissertation: Numerical and deep learning algorithms for automated quality assurance in proton therapy\",\n",
      "    \"doi\": \"10.4121/b15ea962-a023-468b-9ec8-c7be90329d7a.v1\",\n",
      "    \"handle\": null,\n",
      "    \"url\": \"https://data.4tu.nl/v2/articles/b15ea962-a023-468b-9ec8-c7be90329d7a\",\n",
      "    \"published_date\": \"2025-02-14T09:55:02\",\n",
      "    \"thumb\": null,\n",
      "    \"defined_type\": 3,\n",
      "    \"defined_type_name\": \"dataset\",\n",
      "    \"group_id\": 28586,\n",
      "    \"url_private_api\": \"https://data.4tu.nl/v2/account/articles/b15ea962-a023-468b-9ec8-c7be90329d7a\",\n",
      "    \"url_public_api\": \"https://data.4tu.nl/v2/articles/b15ea962-a023-468b-9ec8-c7be90329d7a\",\n",
      "    \"url_private_html\": \"https://data.4tu.nl/my/datasets/b15ea962-a023-468b-9ec8-c7be90329d7a/edit\",\n",
      "    \"url_public_html\": \"https://data.4tu.nl/datasets/b15ea962-a023-468b-9ec8-c7be90329d7a/1\",\n",
      "    \"timeline\": {\n",
      "      \"posted\": \"2025-02-14T09:55:02\",\n",
      "      \"firstOnline\": \"2025-02-14T09:55:01\",\n",
      "      \"revision\": null\n",
      "    },\n",
      "    \"resource_title\": null,\n",
      "    \"resource_doi\": null\n",
      "  }\n",
      "]\n"
     ]
    },
    {
     "name": "stderr",
     "output_type": "stream",
     "text": [
      "  % Total    % Received % Xferd  Average Speed   Time    Time     Time  Current\n",
      "                                 Dload  Upload   Total   Spent    Left  Speed\n",
      "\n",
      "  0     0    0     0    0     0      0      0 --:--:-- --:--:-- --:--:--     0\n",
      "100 10500  100 10500    0     0  14727      0 --:--:-- --:--:-- --:--:-- 14851\n"
     ]
    }
   ],
   "source": [
    "!curl \"https://data.4tu.nl/v2/articles?item_type=3&limit=10&published_since=2025-01-01\" | jq"
   ]
  },
  {
   "cell_type": "markdown",
   "id": "439d17ce",
   "metadata": {},
   "source": [
    "### Get 10 software records published after 01-01-2025 (via `curl`)"
   ]
  },
  {
   "cell_type": "code",
   "execution_count": null,
   "id": "4d593479",
   "metadata": {},
   "outputs": [],
   "source": [
    "curl \"https://data.4tu.nl/v2/articles?item_type=9&limit=10&published_since=2025-01-01\" | jq"
   ]
  },
  {
   "cell_type": "markdown",
   "id": "a5b04d1b",
   "metadata": {},
   "source": [
    "### Save dataset titles and DOIs to file (via `curl`)"
   ]
  },
  {
   "cell_type": "code",
   "execution_count": null,
   "id": "2a540531",
   "metadata": {},
   "outputs": [],
   "source": [
    "curl \"https://data.4tu.nl/v2/articles?item_type=3&limit=10&published_since=2025-01-01\" \\| jq '.[] | \"* \" + .title + \" (\" + .doi + \")\"' > datasets.md"
   ]
  },
  {
   "cell_type": "markdown",
   "id": "ea806844",
   "metadata": {},
   "source": [
    "### Exercise: Save dataset title, DOI, and publication date (via `curl`)"
   ]
  },
  {
   "cell_type": "code",
   "execution_count": null,
   "id": "dfdcb4c2",
   "metadata": {},
   "outputs": [],
   "source": [
    "curl \"https://data.4tu.nl/v2/articles?item_type=3&limit=10&published_since=2025-01-01\" \\| jq '.[] | \"* \" + .title + \" (\" + .doi + \") (\" + .published_date + \")\"' > datasets.md"
   ]
  },
  {
   "cell_type": "markdown",
   "id": "02fec9d0",
   "metadata": {},
   "source": [
    "## Search Datasets by Keyword"
   ]
  },
  {
   "cell_type": "code",
   "execution_count": null,
   "id": "ece48fba",
   "metadata": {},
   "outputs": [],
   "source": [
    "curl --request POST  --header \"Content-Type: application/json\" \\--data '{ \"search_for\": \"mechanical engineering\" }' \\https://data.4tu.nl/v2/articles/search | jq"
   ]
  },
  {
   "cell_type": "code",
   "execution_count": null,
   "id": "e9899206",
   "metadata": {},
   "outputs": [],
   "source": [
    "curl --request POST  --header \"Content-Type: application/json\" \\--data '{ \"search_for\": \"Nanomechanical String Resonators\" }' \\https://data.4tu.nl/v2/articles/search | jq"
   ]
  },
  {
   "cell_type": "markdown",
   "id": "1a8a4c19",
   "metadata": {},
   "source": [
    "## Using a Token to Access Author Info (via `curl`)"
   ]
  },
  {
   "cell_type": "code",
   "execution_count": null,
   "id": "0205b8ec",
   "metadata": {
    "editable": true,
    "slideshow": {
     "slide_type": ""
    },
    "tags": []
   },
   "outputs": [],
   "source": [
    "# Requires setting a token in a sourced .env file\n",
    "!curl --request POST \\--header \"Authorization: token ${variable_token_name_main}\" \\--header \"Content-Type: application/json\" \\--data '{ \"search\": \"Leila Iñigo\" }' \\https://data.4tu.nl/v2/account/authors/search | jq > author_info.md"
   ]
  },
  {
   "cell_type": "markdown",
   "id": "5ae1c4ac",
   "metadata": {},
   "source": [
    "## Upload Datasets (POST Requests)"
   ]
  },
  {
   "cell_type": "markdown",
   "id": "469e6161",
   "metadata": {},
   "source": [
    "### Basic Upload"
   ]
  },
  {
   "cell_type": "code",
   "execution_count": null,
   "id": "6d2b9da7",
   "metadata": {},
   "outputs": [],
   "source": [
    "curl --header \"Authorization: token ${variable_token_name_next}\" \\--header \"Content-Type: application/json\" \\--data '{ \"title\": \"Example dataset\" }' \\https://data.4tu.nl/v2/account/articles | jq"
   ]
  },
  {
   "cell_type": "markdown",
   "id": "9c5a7cad",
   "metadata": {},
   "source": [
    "### Upload with Author Metadata"
   ]
  },
  {
   "cell_type": "code",
   "execution_count": null,
   "id": "85d815c1",
   "metadata": {},
   "outputs": [],
   "source": [
    "curl --header \"Authorization: token YOUR_TOKEN_NEXT\" \\--header \"Content-Type: application/json\" \\--data '{ \"title\": \"Example dataset\", \"authors\": [{ \"first_name\": \"John\", \"full_name\": \"John Doe\", \"last_name\": \"Doe\", \"orcid_id\": \"0000-0003-4324-5350\" }] }' \\https://data.4tu.nl/v2/account/articles | jq"
   ]
  },
  {
   "cell_type": "markdown",
   "id": "403c49f0",
   "metadata": {},
   "source": [
    "### Upload Using YAML Metadata"
   ]
  },
  {
   "cell_type": "code",
   "execution_count": null,
   "id": "eb85bca1",
   "metadata": {},
   "outputs": [],
   "source": [
    "yq '.' Lesson_development/example_metadata.yaml | \\curl -X POST https://next.data.4tu.nl/v2/account/articles \\-H \"Authorization: token ${API_TOKEN_NEXT}\" \\-H \"Content-Type: application/json\" -d @-"
   ]
  },
  {
   "cell_type": "markdown",
   "id": "d732ae4c",
   "metadata": {},
   "source": [
    "## Motivation for Using Python"
   ]
  },
  {
   "cell_type": "code",
   "execution_count": null,
   "id": "6c7ddd80",
   "metadata": {},
   "outputs": [],
   "source": [
    "curl \"https://data.4tu.nl/v2/articles?item_type=3&limit=10&published_since=2025-04-01\" \\| jq '.[] | \"* \" + .title + \" (\" + .uuid + \") (\" + .published_date + \")\"' > datasets.md"
   ]
  },
  {
   "cell_type": "code",
   "execution_count": null,
   "id": "cdcfcc99",
   "metadata": {},
   "outputs": [],
   "source": [
    "curl -s https://data.4tu.nl/v2/articles/fb26fd3f-ba3c-4cf0-8926-14768a256933 \\| jq -r '\"Description: \" + .description + \"\\nCategories: \" + (.categories | map(.title) | join(\", \"))' \\> datasets_description_categories.md"
   ]
  },
  {
   "cell_type": "markdown",
   "id": "62d12127",
   "metadata": {},
   "source": [
    "### Bash Script: Loop Through UUIDs to Collect Metadata"
   ]
  },
  {
   "cell_type": "code",
   "execution_count": null,
   "id": "53fcb70b",
   "metadata": {},
   "outputs": [],
   "source": [
    "curl -s \"https://data.4tu.nl/v2/articles?published_since=20250401&item_type=3&limit=10\" \\| jq '.[] | {uuid: .uuid}' > article_ids.jsoncat article_ids.json | jq -r '.uuid' | while read uuid; do  curl -s \"https://data.4tu.nl/v2/articles/$uuid\" \\  | jq -r '\"Description: \" + .description + \"\\nCategories: \" + (.categories | map(.title) | join(\", \"))' >> articles_full_metadata.mddone"
   ]
  },
  {
   "cell_type": "markdown",
   "id": "34071bc5",
   "metadata": {},
   "source": [
    "### Limitations of Bash Scripts- Harder to debug or extend- Tricky to structure or merge data- Not ideal for large-scale automation"
   ]
  },
  {
   "cell_type": "markdown",
   "id": "2684b6f8",
   "metadata": {},
   "source": [
    "## Using the API with PythonSee `get_description_categories_datasets_example.ipynb` for a full example using `requests`."
   ]
  },
  {
   "cell_type": "markdown",
   "id": "2541cb79",
   "metadata": {},
   "source": [
    "## Bonus: Using `connect4tu` Python PackageYou can also use the [connect4tu](https://github.com/leilaicruz/connect4tu) package for a cleaner Python interface to the 4TU API."
   ]
  }
 ],
 "metadata": {
  "kernelspec": {
   "display_name": "Python 3 (ipykernel)",
   "language": "python",
   "name": "python3"
  },
  "language_info": {
   "codemirror_mode": {
    "name": "ipython",
    "version": 3
   },
   "file_extension": ".py",
   "mimetype": "text/x-python",
   "name": "python",
   "nbconvert_exporter": "python",
   "pygments_lexer": "ipython3",
   "version": "3.12.7"
  }
 },
 "nbformat": 4,
 "nbformat_minor": 5
}
